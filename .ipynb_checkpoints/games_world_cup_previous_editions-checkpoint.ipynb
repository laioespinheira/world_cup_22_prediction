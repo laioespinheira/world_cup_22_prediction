{
 "cells": [
  {
   "cell_type": "markdown",
   "id": "a0344e95",
   "metadata": {},
   "source": [
    "# 0.0 Imports"
   ]
  },
  {
   "cell_type": "code",
   "execution_count": 1,
   "id": "ce160f65",
   "metadata": {
    "ExecuteTime": {
     "end_time": "2022-11-15T01:38:03.363097Z",
     "start_time": "2022-11-15T01:37:48.873719Z"
    }
   },
   "outputs": [],
   "source": [
    "import requests\n",
    "from bs4 import BeautifulSoup\n",
    "from selenium import webdriver\n",
    "from selenium.webdriver.common.keys import Keys\n",
    "from selenium.webdriver.common.by import By\n",
    "from selenium.webdriver.support.ui import WebDriverWait\n",
    "from selenium.webdriver.support import expected_conditions as EC\n",
    "from selenium.webdriver.common.action_chains import ActionChains\n",
    "import time\n",
    "import pandas as pd\n",
    "import numpy as np"
   ]
  },
  {
   "cell_type": "markdown",
   "id": "08e87f40",
   "metadata": {
    "heading_collapsed": true
   },
   "source": [
    "## 0.1 Functions"
   ]
  },
  {
   "cell_type": "code",
   "execution_count": null,
   "id": "e03ca5df",
   "metadata": {
    "ExecuteTime": {
     "end_time": "2022-11-15T06:54:25.369962Z",
     "start_time": "2022-11-15T06:54:25.361977Z"
    },
    "hidden": true
   },
   "outputs": [],
   "source": [
    "def soup(table):\n",
    "    \n",
    "    #cleaned_soup = BeautifulSoup( table, 'html.parser')\n",
    "    cleaned_soup = str(table)\n",
    "    cleaned_soup = cleaned_soup.split('\\n')\n",
    "    \n",
    "    return cleaned_soup\n",
    "\n",
    "def cleaning(table):\n",
    "    \n",
    "    #teams names\n",
    "    \n",
    "    #getting all upper cases\n",
    "    only_uppercase = []\n",
    "    only_uppercase.append([c for c in table if c.isupper()])\n",
    "    only_uppercase = only_uppercase[0]\n",
    "    \n",
    "    #removing other strings\n",
    "    element_1 = table[0][-4:] #removing dates\n",
    "    element_2 = str('FT') #removing FT\n",
    "    \n",
    "    for element in only_uppercase:\n",
    "        if element.endswith(element_1):\n",
    "            only_uppercase.remove(element)\n",
    "    \n",
    "    for element in only_uppercase:\n",
    "        if element.endswith(element_2):\n",
    "            only_uppercase.remove(element)          \n",
    "    \n",
    "    #getting home and away teams\n",
    "    home_teams = only_uppercase[0::2]\n",
    "    away_teams = only_uppercase[1::2] \n",
    "    \n",
    "    #home and away teams to lowercase\n",
    "    home_teams = [x.lower() for x in home_teams]\n",
    "    away_teams = [x.lower() for x in away_teams]\n",
    "    \n",
    "    \n",
    "    #home and away goals\n",
    "    scores = []\n",
    "    scores.append([c for c in table if (' - ' in c) & (len(c) == 5)])\n",
    "    scores = scores[0]\n",
    "    \n",
    "    home_goals = []\n",
    "    away_goals = []\n",
    "\n",
    "    for score in scores:\n",
    "        home_goals.append(score[0])\n",
    "        away_goals.append(score[-1])\n",
    "    \n",
    "    year = table[0][-4:]\n",
    "    columns = ['home_teams', 'away_teams', 'home_goals', 'away_goals']\n",
    "    \n",
    "    df = pd.DataFrame(list(zip(home_teams, away_teams, home_goals, away_goals)), columns=columns)\n",
    "    \n",
    "    df['year'] = year\n",
    "    \n",
    "    return df"
   ]
  },
  {
   "cell_type": "markdown",
   "id": "8c2e8c6a",
   "metadata": {},
   "source": [
    "# 1.0 Webscrapping"
   ]
  },
  {
   "cell_type": "code",
   "execution_count": 244,
   "id": "ba0f94ca",
   "metadata": {
    "ExecuteTime": {
     "end_time": "2022-11-15T07:05:45.945335Z",
     "start_time": "2022-11-15T07:05:29.621175Z"
    }
   },
   "outputs": [],
   "source": [
    "PATH = \"C:\\Program Files (x86)\\chromedriver.exe\"\n",
    "driver = webdriver.Chrome(PATH)\n",
    "\n",
    "driver.get( \"https://www.fifa.com/tournaments/mens/worldcup/1994usa/match-center\" )\n",
    "\n",
    "driver.set_window_size(1024, 600)\n",
    "driver.maximize_window()\n",
    "\n",
    "try:\n",
    "    element = WebDriverWait(driver, 10).until(\n",
    "        EC.presence_of_element_located((By.ID, \"onetrust-reject-all-handler\"))\n",
    "    )\n",
    "    element.click()\n",
    "    \n",
    "    element = WebDriverWait(driver, 10).until(\n",
    "        EC.presence_of_element_located((By.XPATH, \"//span[contains(text(), 'Groups')]\"))\n",
    "    )\n",
    "    \n",
    "    time.sleep(2)\n",
    "    driver.execute_script(\"arguments[0].scrollIntoView({block: 'center'});\", element)\n",
    "    time.sleep(2)\n",
    "    element.click()   \n",
    "\n",
    "    element = WebDriverWait(driver, 5).until(\n",
    "        EC.presence_of_element_located((By.CLASS_NAME, \"fp-accordion-section_innerCards__2SOSW\"))\n",
    "    )\n",
    "    \n",
    "    fifa_1998_games = element.text\n",
    "    \n",
    "    driver.quit()  \n",
    "except:\n",
    "    driver.quit()"
   ]
  },
  {
   "cell_type": "code",
   "execution_count": 100,
   "id": "d895f69a",
   "metadata": {
    "ExecuteTime": {
     "end_time": "2022-11-15T00:38:33.743427Z",
     "start_time": "2022-11-15T00:38:20.882549Z"
    },
    "collapsed": true
   },
   "outputs": [
    {
     "ename": "NoSuchElementException",
     "evalue": "Message: no such element: Unable to locate element: {\"method\":\"xpath\",\"selector\":\"//span[contains(text(), 'Groups')]\"}\n  (Session info: chrome=107.0.5304.107)\n",
     "output_type": "error",
     "traceback": [
      "\u001b[1;31m---------------------------------------------------------------------------\u001b[0m",
      "\u001b[1;31mNoSuchElementException\u001b[0m                    Traceback (most recent call last)",
      "Input \u001b[1;32mIn [100]\u001b[0m, in \u001b[0;36m<cell line: 14>\u001b[1;34m()\u001b[0m\n\u001b[0;32m     11\u001b[0m link\u001b[38;5;241m.\u001b[39mclick()\n\u001b[0;32m     13\u001b[0m time\u001b[38;5;241m.\u001b[39msleep(\u001b[38;5;241m3\u001b[39m)\n\u001b[1;32m---> 14\u001b[0m link2 \u001b[38;5;241m=\u001b[39m \u001b[43mdriver\u001b[49m\u001b[38;5;241;43m.\u001b[39;49m\u001b[43mfind_element_by_xpath\u001b[49m\u001b[43m(\u001b[49m\u001b[38;5;124;43m\"\u001b[39;49m\u001b[38;5;124;43m//span[contains(text(), \u001b[39;49m\u001b[38;5;124;43m'\u001b[39;49m\u001b[38;5;124;43mGroups\u001b[39;49m\u001b[38;5;124;43m'\u001b[39;49m\u001b[38;5;124;43m)]\u001b[39;49m\u001b[38;5;124;43m\"\u001b[39;49m\u001b[43m)\u001b[49m\n\u001b[0;32m     15\u001b[0m driver\u001b[38;5;241m.\u001b[39mexecute_script(\u001b[38;5;124m\"\u001b[39m\u001b[38;5;124marguments[0].scrollIntoView(\u001b[39m\u001b[38;5;124m{\u001b[39m\u001b[38;5;124mblock: \u001b[39m\u001b[38;5;124m'\u001b[39m\u001b[38;5;124mcenter\u001b[39m\u001b[38;5;124m'\u001b[39m\u001b[38;5;124m});\u001b[39m\u001b[38;5;124m\"\u001b[39m, link2)\n\u001b[0;32m     16\u001b[0m link2\u001b[38;5;241m.\u001b[39mclick()\n",
      "File \u001b[1;32m~\\anaconda3\\lib\\site-packages\\selenium\\webdriver\\remote\\webdriver.py:394\u001b[0m, in \u001b[0;36mWebDriver.find_element_by_xpath\u001b[1;34m(self, xpath)\u001b[0m\n\u001b[0;32m    378\u001b[0m \u001b[38;5;28;01mdef\u001b[39;00m \u001b[38;5;21mfind_element_by_xpath\u001b[39m(\u001b[38;5;28mself\u001b[39m, xpath):\n\u001b[0;32m    379\u001b[0m     \u001b[38;5;124;03m\"\"\"\u001b[39;00m\n\u001b[0;32m    380\u001b[0m \u001b[38;5;124;03m    Finds an element by xpath.\u001b[39;00m\n\u001b[0;32m    381\u001b[0m \n\u001b[1;32m   (...)\u001b[0m\n\u001b[0;32m    392\u001b[0m \u001b[38;5;124;03m        element = driver.find_element_by_xpath('//div/td[1]')\u001b[39;00m\n\u001b[0;32m    393\u001b[0m \u001b[38;5;124;03m    \"\"\"\u001b[39;00m\n\u001b[1;32m--> 394\u001b[0m     \u001b[38;5;28;01mreturn\u001b[39;00m \u001b[38;5;28;43mself\u001b[39;49m\u001b[38;5;241;43m.\u001b[39;49m\u001b[43mfind_element\u001b[49m\u001b[43m(\u001b[49m\u001b[43mby\u001b[49m\u001b[38;5;241;43m=\u001b[39;49m\u001b[43mBy\u001b[49m\u001b[38;5;241;43m.\u001b[39;49m\u001b[43mXPATH\u001b[49m\u001b[43m,\u001b[49m\u001b[43m \u001b[49m\u001b[43mvalue\u001b[49m\u001b[38;5;241;43m=\u001b[39;49m\u001b[43mxpath\u001b[49m\u001b[43m)\u001b[49m\n",
      "File \u001b[1;32m~\\anaconda3\\lib\\site-packages\\selenium\\webdriver\\remote\\webdriver.py:976\u001b[0m, in \u001b[0;36mWebDriver.find_element\u001b[1;34m(self, by, value)\u001b[0m\n\u001b[0;32m    974\u001b[0m         by \u001b[38;5;241m=\u001b[39m By\u001b[38;5;241m.\u001b[39mCSS_SELECTOR\n\u001b[0;32m    975\u001b[0m         value \u001b[38;5;241m=\u001b[39m \u001b[38;5;124m'\u001b[39m\u001b[38;5;124m[name=\u001b[39m\u001b[38;5;124m\"\u001b[39m\u001b[38;5;132;01m%s\u001b[39;00m\u001b[38;5;124m\"\u001b[39m\u001b[38;5;124m]\u001b[39m\u001b[38;5;124m'\u001b[39m \u001b[38;5;241m%\u001b[39m value\n\u001b[1;32m--> 976\u001b[0m \u001b[38;5;28;01mreturn\u001b[39;00m \u001b[38;5;28;43mself\u001b[39;49m\u001b[38;5;241;43m.\u001b[39;49m\u001b[43mexecute\u001b[49m\u001b[43m(\u001b[49m\u001b[43mCommand\u001b[49m\u001b[38;5;241;43m.\u001b[39;49m\u001b[43mFIND_ELEMENT\u001b[49m\u001b[43m,\u001b[49m\u001b[43m \u001b[49m\u001b[43m{\u001b[49m\n\u001b[0;32m    977\u001b[0m \u001b[43m    \u001b[49m\u001b[38;5;124;43m'\u001b[39;49m\u001b[38;5;124;43musing\u001b[39;49m\u001b[38;5;124;43m'\u001b[39;49m\u001b[43m:\u001b[49m\u001b[43m \u001b[49m\u001b[43mby\u001b[49m\u001b[43m,\u001b[49m\n\u001b[0;32m    978\u001b[0m \u001b[43m    \u001b[49m\u001b[38;5;124;43m'\u001b[39;49m\u001b[38;5;124;43mvalue\u001b[39;49m\u001b[38;5;124;43m'\u001b[39;49m\u001b[43m:\u001b[49m\u001b[43m \u001b[49m\u001b[43mvalue\u001b[49m\u001b[43m}\u001b[49m\u001b[43m)\u001b[49m[\u001b[38;5;124m'\u001b[39m\u001b[38;5;124mvalue\u001b[39m\u001b[38;5;124m'\u001b[39m]\n",
      "File \u001b[1;32m~\\anaconda3\\lib\\site-packages\\selenium\\webdriver\\remote\\webdriver.py:321\u001b[0m, in \u001b[0;36mWebDriver.execute\u001b[1;34m(self, driver_command, params)\u001b[0m\n\u001b[0;32m    319\u001b[0m response \u001b[38;5;241m=\u001b[39m \u001b[38;5;28mself\u001b[39m\u001b[38;5;241m.\u001b[39mcommand_executor\u001b[38;5;241m.\u001b[39mexecute(driver_command, params)\n\u001b[0;32m    320\u001b[0m \u001b[38;5;28;01mif\u001b[39;00m response:\n\u001b[1;32m--> 321\u001b[0m     \u001b[38;5;28;43mself\u001b[39;49m\u001b[38;5;241;43m.\u001b[39;49m\u001b[43merror_handler\u001b[49m\u001b[38;5;241;43m.\u001b[39;49m\u001b[43mcheck_response\u001b[49m\u001b[43m(\u001b[49m\u001b[43mresponse\u001b[49m\u001b[43m)\u001b[49m\n\u001b[0;32m    322\u001b[0m     response[\u001b[38;5;124m'\u001b[39m\u001b[38;5;124mvalue\u001b[39m\u001b[38;5;124m'\u001b[39m] \u001b[38;5;241m=\u001b[39m \u001b[38;5;28mself\u001b[39m\u001b[38;5;241m.\u001b[39m_unwrap_value(\n\u001b[0;32m    323\u001b[0m         response\u001b[38;5;241m.\u001b[39mget(\u001b[38;5;124m'\u001b[39m\u001b[38;5;124mvalue\u001b[39m\u001b[38;5;124m'\u001b[39m, \u001b[38;5;28;01mNone\u001b[39;00m))\n\u001b[0;32m    324\u001b[0m     \u001b[38;5;28;01mreturn\u001b[39;00m response\n",
      "File \u001b[1;32m~\\anaconda3\\lib\\site-packages\\selenium\\webdriver\\remote\\errorhandler.py:242\u001b[0m, in \u001b[0;36mErrorHandler.check_response\u001b[1;34m(self, response)\u001b[0m\n\u001b[0;32m    240\u001b[0m         alert_text \u001b[38;5;241m=\u001b[39m value[\u001b[38;5;124m'\u001b[39m\u001b[38;5;124malert\u001b[39m\u001b[38;5;124m'\u001b[39m]\u001b[38;5;241m.\u001b[39mget(\u001b[38;5;124m'\u001b[39m\u001b[38;5;124mtext\u001b[39m\u001b[38;5;124m'\u001b[39m)\n\u001b[0;32m    241\u001b[0m     \u001b[38;5;28;01mraise\u001b[39;00m exception_class(message, screen, stacktrace, alert_text)\n\u001b[1;32m--> 242\u001b[0m \u001b[38;5;28;01mraise\u001b[39;00m exception_class(message, screen, stacktrace)\n",
      "\u001b[1;31mNoSuchElementException\u001b[0m: Message: no such element: Unable to locate element: {\"method\":\"xpath\",\"selector\":\"//span[contains(text(), 'Groups')]\"}\n  (Session info: chrome=107.0.5304.107)\n"
     ]
    }
   ],
   "source": [
    "PATH = \"C:\\Program Files (x86)\\chromedriver.exe\"\n",
    "driver = webdriver.Chrome(PATH)\n",
    "\n",
    "driver.get( \"https://www.fifa.com/tournaments/mens/worldcup/2018russia/match-center\" )\n",
    "\n",
    "driver.set_window_size(1024, 600)\n",
    "driver.maximize_window()\n",
    "\n",
    "time.sleep(2)\n",
    "link = driver.find_element_by_id(\"onetrust-reject-all-handler\")\n",
    "link.click()\n",
    "\n",
    "time.sleep(3)\n",
    "link2 = driver.find_element_by_xpath(\"//span[contains(text(), 'Groups')]\")\n",
    "driver.execute_script(\"arguments[0].scrollIntoView({block: 'center'});\", link2)\n",
    "link2.click()\n",
    "\n",
    "time.sleep(2)\n",
    "games18 = driver.find_element(By.CLASS_NAME, \"fp-accordion-section_innerCards__2SOSW\")\n",
    "fifa_2018_page1 = games18.text"
   ]
  },
  {
   "cell_type": "markdown",
   "id": "f67776d8",
   "metadata": {
    "ExecuteTime": {
     "end_time": "2022-11-15T06:54:02.252868Z",
     "start_time": "2022-11-15T06:54:02.223898Z"
    }
   },
   "source": [
    "# 2.0 Data Wrangling"
   ]
  },
  {
   "cell_type": "code",
   "execution_count": 245,
   "id": "fee80872",
   "metadata": {
    "ExecuteTime": {
     "end_time": "2022-11-15T07:05:49.148209Z",
     "start_time": "2022-11-15T07:05:49.140220Z"
    },
    "scrolled": true
   },
   "outputs": [],
   "source": [
    "fifa_94 = soup(fifa_1998_games)\n",
    "df_94 = cleaning(fifa_94)"
   ]
  },
  {
   "cell_type": "code",
   "execution_count": 250,
   "id": "067c1f84",
   "metadata": {
    "ExecuteTime": {
     "end_time": "2022-11-15T07:07:00.299884Z",
     "start_time": "2022-11-15T07:07:00.283928Z"
    }
   },
   "outputs": [],
   "source": [
    "df = pd.concat([df_18, df_14, df_10, df_06, df_02, df_98, df_94]).reset_index(drop=True)"
   ]
  },
  {
   "cell_type": "code",
   "execution_count": 252,
   "id": "3f47f1c8",
   "metadata": {
    "ExecuteTime": {
     "end_time": "2022-11-15T07:07:28.744876Z",
     "start_time": "2022-11-15T07:07:28.728771Z"
    }
   },
   "outputs": [
    {
     "data": {
      "text/plain": [
       "array(['russia', 'egypt', 'morocco', 'portugal', 'france', 'argentina',\n",
       "       'peru', 'croatia', 'costa rica', 'germany', 'brazil', 'sweden',\n",
       "       'belgium', 'tunisia', 'colombia', 'poland', 'uruguay', 'ir iran',\n",
       "       'denmark', 'nigeria', 'serbia', 'korea republic', 'england',\n",
       "       'japan', 'saudi arabia', 'spain', 'australia', 'iceland', 'mexico',\n",
       "       'switzerland', 'senegal', 'panama', 'chile', \"côte d'ivoire\",\n",
       "       'iran', 'ghana', 'cameroon', 'italy', 'honduras', 'united states',\n",
       "       'netherlands', 'greece', 'bosnia-herzegovina', 'ecuador',\n",
       "       'algeria', 'south africa', 'new zealand', 'slovenia', 'slovakia',\n",
       "       'paraguay', 'korea dpr', 'trinidad and tobago',\n",
       "       'serbia and montenegro', 'angola', 'czech republic', 'togo',\n",
       "       'ukraine', 'republic of ireland', 'china pr', 'turkey',\n",
       "       'yugoslavia', 'jamaica', 'romania', 'scotland', 'norway',\n",
       "       'bulgaria', 'bolivia'], dtype=object)"
      ]
     },
     "execution_count": 252,
     "metadata": {},
     "output_type": "execute_result"
    }
   ],
   "source": [
    "df['home_teams'].unique()"
   ]
  },
  {
   "cell_type": "code",
   "execution_count": 253,
   "id": "eb9fb6db",
   "metadata": {
    "ExecuteTime": {
     "end_time": "2022-11-15T07:23:38.512003Z",
     "start_time": "2022-11-15T07:23:38.497213Z"
    }
   },
   "outputs": [
    {
     "data": {
      "text/plain": [
       "array(['russia', 'egypt', 'morocco', 'portugal', 'france', 'argentina',\n",
       "       'peru', 'croatia', 'costa rica', 'germany', 'brazil', 'sweden',\n",
       "       'belgium', 'tunisia', 'colombia', 'poland', 'uruguay', 'ir iran',\n",
       "       'denmark', 'nigeria', 'serbia', 'korea republic', 'england',\n",
       "       'japan', 'saudi arabia', 'spain', 'australia', 'iceland', 'mexico',\n",
       "       'switzerland', 'senegal', 'panama'], dtype=object)"
      ]
     },
     "execution_count": 253,
     "metadata": {},
     "output_type": "execute_result"
    }
   ],
   "source": [
    "df_18['home_teams'].unique()"
   ]
  },
  {
   "cell_type": "code",
   "execution_count": 256,
   "id": "4f328b21",
   "metadata": {
    "ExecuteTime": {
     "end_time": "2022-11-15T08:55:49.592944Z",
     "start_time": "2022-11-15T08:55:49.410447Z"
    }
   },
   "outputs": [],
   "source": [
    "df.to_csv('all_games_world_cup.csv')"
   ]
  },
  {
   "cell_type": "code",
   "execution_count": null,
   "id": "cbd285bb",
   "metadata": {},
   "outputs": [],
   "source": []
  },
  {
   "cell_type": "code",
   "execution_count": null,
   "id": "b370061f",
   "metadata": {},
   "outputs": [],
   "source": []
  }
 ],
 "metadata": {
  "kernelspec": {
   "display_name": "Python 3",
   "language": "python",
   "name": "python3"
  },
  "language_info": {
   "codemirror_mode": {
    "name": "ipython",
    "version": 3
   },
   "file_extension": ".py",
   "mimetype": "text/x-python",
   "name": "python",
   "nbconvert_exporter": "python",
   "pygments_lexer": "ipython3",
   "version": "3.8.8"
  }
 },
 "nbformat": 4,
 "nbformat_minor": 5
}
