{
 "cells": [
  {
   "cell_type": "markdown",
   "id": "14ce5bce",
   "metadata": {},
   "source": [
    "# 0.0 Imports"
   ]
  },
  {
   "cell_type": "code",
   "execution_count": 1716,
   "id": "5aabba1b",
   "metadata": {
    "ExecuteTime": {
     "end_time": "2022-11-17T02:08:32.015269Z",
     "start_time": "2022-11-17T02:08:32.000296Z"
    }
   },
   "outputs": [],
   "source": [
    "import pandas as pd\n",
    "import numpy as np\n",
    "from sklearn.preprocessing import StandardScaler, MinMaxScaler, scale\n",
    "from sklearn.model_selection import train_test_split\n",
    "from sklearn.linear_model import LogisticRegression\n",
    "from sklearn.multioutput import MultiOutputClassifier\n",
    "from sklearn.neighbors import KNeighborsClassifier\n",
    "from sklearn import linear_model\n",
    "from sklearn.tree import DecisionTreeClassifier\n",
    "from sklearn.ensemble import RandomForestClassifier\n",
    "from sklearn.naive_bayes import GaussianNB\n",
    "from sklearn.svm import SVC\n",
    "from sklearn.metrics import accuracy_score,f1_score,precision_score,recall_score,confusion_matrix,plot_confusion_matrix\n",
    "from sklearn.model_selection import GridSearchCV\n",
    "from IPython.display import display\n",
    "from sklearn.model_selection import cross_validate, KFold\n",
    "import matplotlib.pyplot as plt\n",
    "import matplotlib.pyplot as pltimport \n",
    "import tensorflow as tf\n",
    "from sklearn.naive_bayes import MultinomialNB\n",
    "import seaborn as sns\n",
    "import pickle\n",
    "import csv\n",
    "%matplotlib inline"
   ]
  },
  {
   "cell_type": "code",
   "execution_count": 1719,
   "id": "cc53235c",
   "metadata": {
    "ExecuteTime": {
     "end_time": "2022-11-17T06:09:57.616840Z",
     "start_time": "2022-11-17T06:09:57.602857Z"
    }
   },
   "outputs": [],
   "source": [
    "def confusion_matrix_data(pred, y_test):\n",
    "\n",
    "    home_goals_pred = []\n",
    "    away_goals_pred = []\n",
    "    home_goals_test = []\n",
    "    away_goals_test = []\n",
    "\n",
    "    for i in range(len(pred)):\n",
    "        home_goals_pred.append(pred[i][0])\n",
    "        away_goals_pred.append(pred[i][-1])\n",
    "\n",
    "    for i in range(len(y_test)):\n",
    "        home_goals_test.append(y_test[i][0])\n",
    "        away_goals_test.append(y_test[i][-1])    \n",
    "\n",
    "    columns=['home_goals_pred', 'away_goals_pred', 'home_goals_test', 'away_goals_test']\n",
    "\n",
    "    df_pred = pd.DataFrame(list(zip(home_goals_pred, away_goals_pred, home_goals_test, away_goals_test)), columns=columns)\n",
    "\n",
    "    df_pred['result_pred'] = 0\n",
    "    df_pred.loc[df_pred['home_goals_pred'] == df_pred['away_goals_pred'], 'result'] = 0\n",
    "    df_pred.loc[df_pred['home_goals_pred'] > df_pred['away_goals_pred'], 'result'] = 1\n",
    "    df_pred.loc[df_pred['home_goals_pred'] < df_pred['away_goals_pred'], 'result'] = 2\n",
    "\n",
    "    df_pred['result_test'] = 0\n",
    "    df_pred.loc[df_pred['home_goals_test'] == df_pred['away_goals_test'], 'result_test'] = 0\n",
    "    df_pred.loc[df_pred['home_goals_test'] > df_pred['away_goals_test'], 'result_test'] = 1\n",
    "    df_pred.loc[df_pred['home_goals_test'] < df_pred['away_goals_test'], 'result_test'] = 2\n",
    "\n",
    "    return df_pred"
   ]
  },
  {
   "cell_type": "markdown",
   "id": "536b5399",
   "metadata": {
    "heading_collapsed": true
   },
   "source": [
    "# 1.0 Data Wrangling"
   ]
  },
  {
   "cell_type": "markdown",
   "id": "179cad98",
   "metadata": {
    "hidden": true
   },
   "source": [
    "## 1.1 Read CSV"
   ]
  },
  {
   "cell_type": "code",
   "execution_count": 306,
   "id": "fbeff674",
   "metadata": {
    "ExecuteTime": {
     "end_time": "2022-11-16T02:14:16.261515Z",
     "start_time": "2022-11-16T02:14:16.251511Z"
    },
    "hidden": true
   },
   "outputs": [],
   "source": [
    "df_ratings = pd.read_csv('all_ratings_world_cup.csv').drop(['Unnamed: 0'], axis=1)\n",
    "df_games = pd.read_csv('all_games_world_cup.csv').drop(['Unnamed: 0'], axis=1)"
   ]
  },
  {
   "cell_type": "code",
   "execution_count": 307,
   "id": "65807dff",
   "metadata": {
    "ExecuteTime": {
     "end_time": "2022-11-16T02:14:17.780531Z",
     "start_time": "2022-11-16T02:14:17.766530Z"
    },
    "hidden": true
   },
   "outputs": [
    {
     "data": {
      "text/html": [
       "<div>\n",
       "<style scoped>\n",
       "    .dataframe tbody tr th:only-of-type {\n",
       "        vertical-align: middle;\n",
       "    }\n",
       "\n",
       "    .dataframe tbody tr th {\n",
       "        vertical-align: top;\n",
       "    }\n",
       "\n",
       "    .dataframe thead th {\n",
       "        text-align: right;\n",
       "    }\n",
       "</style>\n",
       "<table border=\"1\" class=\"dataframe\">\n",
       "  <thead>\n",
       "    <tr style=\"text-align: right;\">\n",
       "      <th></th>\n",
       "      <th>home_teams</th>\n",
       "      <th>away_teams</th>\n",
       "      <th>home_goals</th>\n",
       "      <th>away_goals</th>\n",
       "      <th>year</th>\n",
       "    </tr>\n",
       "  </thead>\n",
       "  <tbody>\n",
       "    <tr>\n",
       "      <th>0</th>\n",
       "      <td>russia</td>\n",
       "      <td>saudi arabia</td>\n",
       "      <td>5</td>\n",
       "      <td>0</td>\n",
       "      <td>2018</td>\n",
       "    </tr>\n",
       "    <tr>\n",
       "      <th>1</th>\n",
       "      <td>egypt</td>\n",
       "      <td>uruguay</td>\n",
       "      <td>0</td>\n",
       "      <td>1</td>\n",
       "      <td>2018</td>\n",
       "    </tr>\n",
       "    <tr>\n",
       "      <th>2</th>\n",
       "      <td>morocco</td>\n",
       "      <td>ir iran</td>\n",
       "      <td>0</td>\n",
       "      <td>1</td>\n",
       "      <td>2018</td>\n",
       "    </tr>\n",
       "    <tr>\n",
       "      <th>3</th>\n",
       "      <td>portugal</td>\n",
       "      <td>spain</td>\n",
       "      <td>3</td>\n",
       "      <td>3</td>\n",
       "      <td>2018</td>\n",
       "    </tr>\n",
       "    <tr>\n",
       "      <th>4</th>\n",
       "      <td>france</td>\n",
       "      <td>australia</td>\n",
       "      <td>2</td>\n",
       "      <td>1</td>\n",
       "      <td>2018</td>\n",
       "    </tr>\n",
       "  </tbody>\n",
       "</table>\n",
       "</div>"
      ],
      "text/plain": [
       "  home_teams    away_teams  home_goals  away_goals  year\n",
       "0     russia  saudi arabia           5           0  2018\n",
       "1      egypt       uruguay           0           1  2018\n",
       "2    morocco       ir iran           0           1  2018\n",
       "3   portugal         spain           3           3  2018\n",
       "4     france     australia           2           1  2018"
      ]
     },
     "execution_count": 307,
     "metadata": {},
     "output_type": "execute_result"
    }
   ],
   "source": [
    "df_games.head()"
   ]
  },
  {
   "cell_type": "code",
   "execution_count": 308,
   "id": "04f35319",
   "metadata": {
    "ExecuteTime": {
     "end_time": "2022-11-16T02:14:18.665590Z",
     "start_time": "2022-11-16T02:14:18.649593Z"
    },
    "hidden": true,
    "scrolled": true
   },
   "outputs": [
    {
     "data": {
      "text/html": [
       "<div>\n",
       "<style scoped>\n",
       "    .dataframe tbody tr th:only-of-type {\n",
       "        vertical-align: middle;\n",
       "    }\n",
       "\n",
       "    .dataframe tbody tr th {\n",
       "        vertical-align: top;\n",
       "    }\n",
       "\n",
       "    .dataframe thead th {\n",
       "        text-align: right;\n",
       "    }\n",
       "</style>\n",
       "<table border=\"1\" class=\"dataframe\">\n",
       "  <thead>\n",
       "    <tr style=\"text-align: right;\">\n",
       "      <th></th>\n",
       "      <th>rank</th>\n",
       "      <th>team</th>\n",
       "      <th>rating</th>\n",
       "      <th>year</th>\n",
       "    </tr>\n",
       "  </thead>\n",
       "  <tbody>\n",
       "    <tr>\n",
       "      <th>0</th>\n",
       "      <td>1</td>\n",
       "      <td>germany</td>\n",
       "      <td>1558</td>\n",
       "      <td>2018</td>\n",
       "    </tr>\n",
       "    <tr>\n",
       "      <th>1</th>\n",
       "      <td>2</td>\n",
       "      <td>brazil</td>\n",
       "      <td>1431</td>\n",
       "      <td>2018</td>\n",
       "    </tr>\n",
       "    <tr>\n",
       "      <th>2</th>\n",
       "      <td>3</td>\n",
       "      <td>belgium</td>\n",
       "      <td>1298</td>\n",
       "      <td>2018</td>\n",
       "    </tr>\n",
       "    <tr>\n",
       "      <th>3</th>\n",
       "      <td>4</td>\n",
       "      <td>portugal</td>\n",
       "      <td>1274</td>\n",
       "      <td>2018</td>\n",
       "    </tr>\n",
       "    <tr>\n",
       "      <th>4</th>\n",
       "      <td>5</td>\n",
       "      <td>argentina</td>\n",
       "      <td>1241</td>\n",
       "      <td>2018</td>\n",
       "    </tr>\n",
       "  </tbody>\n",
       "</table>\n",
       "</div>"
      ],
      "text/plain": [
       "   rank       team  rating  year\n",
       "0     1    germany    1558  2018\n",
       "1     2     brazil    1431  2018\n",
       "2     3    belgium    1298  2018\n",
       "3     4   portugal    1274  2018\n",
       "4     5  argentina    1241  2018"
      ]
     },
     "execution_count": 308,
     "metadata": {},
     "output_type": "execute_result"
    }
   ],
   "source": [
    "df_ratings.head()"
   ]
  },
  {
   "cell_type": "markdown",
   "id": "a6cd3c02",
   "metadata": {
    "hidden": true
   },
   "source": [
    "## 1.2 Creating separated ratings"
   ]
  },
  {
   "cell_type": "code",
   "execution_count": 6,
   "id": "0a61846a",
   "metadata": {
    "ExecuteTime": {
     "end_time": "2022-11-16T00:57:45.630185Z",
     "start_time": "2022-11-16T00:57:45.623201Z"
    },
    "hidden": true
   },
   "outputs": [],
   "source": [
    "df_home_ratings = df_ratings[['team', 'rank', 'rating', 'year']]\n",
    "df_away_ratings = df_ratings[['team', 'rank', 'rating', 'year']]\n",
    "\n",
    "df_home_ratings = df_home_ratings.rename(columns={'team': 'home_teams'})\n",
    "df_away_ratings = df_away_ratings.rename(columns={'team': 'away_teams'})"
   ]
  },
  {
   "cell_type": "markdown",
   "id": "aa9691be",
   "metadata": {
    "hidden": true
   },
   "source": [
    "## 1.3 Renaming countries"
   ]
  },
  {
   "cell_type": "markdown",
   "id": "1ecf6a8a",
   "metadata": {
    "hidden": true
   },
   "source": [
    "### 1.3.1 Games DF"
   ]
  },
  {
   "cell_type": "code",
   "execution_count": 8,
   "id": "1fbaee07",
   "metadata": {
    "ExecuteTime": {
     "end_time": "2022-11-16T00:57:46.974265Z",
     "start_time": "2022-11-16T00:57:46.948295Z"
    },
    "hidden": true
   },
   "outputs": [],
   "source": [
    "df_games.loc[df_games['home_teams'] == 'united states', 'home_teams'] = 'usa'\n",
    "df_games.loc[df_games['home_teams'] == 'ir iran', 'home_teams'] = 'iran'\n",
    "df_games.loc[df_games['home_teams'] == 'Bosnia and Herzegovina', 'home_teams'] = 'bosnia-herzegovina'\n",
    "\n",
    "df_games.loc[df_games['away_teams'] == 'united states', 'away_teams'] = 'usa'\n",
    "df_games.loc[df_games['away_teams'] == 'ir iran', 'away_teams'] = 'iran'\n",
    "df_games.loc[df_games['away_teams'] == 'Bosnia and Herzegovina', 'away_teams'] = 'bosnia-herzegovina'"
   ]
  },
  {
   "cell_type": "markdown",
   "id": "e50adbf3",
   "metadata": {
    "hidden": true
   },
   "source": [
    "### 1.3.2 Ratings DF"
   ]
  },
  {
   "cell_type": "code",
   "execution_count": 11,
   "id": "47e99684",
   "metadata": {
    "ExecuteTime": {
     "end_time": "2022-11-16T00:57:53.519501Z",
     "start_time": "2022-11-16T00:57:53.500523Z"
    },
    "hidden": true,
    "scrolled": true
   },
   "outputs": [],
   "source": [
    "df_home_ratings.loc[df_home_ratings['home_teams'] == 'ir iran', 'home_teams'] = 'iran'\n",
    "df_home_ratings.loc[df_home_ratings['home_teams'] == 'bosnia and herzegovina', 'home_teams'] = 'bosnia-herzegovina'\n",
    "\n",
    "df_away_ratings.loc[df_away_ratings['away_teams'] == 'ir iran', 'away_teams'] = 'iran'\n",
    "df_away_ratings.loc[df_away_ratings['away_teams'] == 'bosnia and herzegovina', 'away_teams'] = 'bosnia-herzegovina'"
   ]
  },
  {
   "cell_type": "markdown",
   "id": "9b67af18",
   "metadata": {
    "hidden": true
   },
   "source": [
    "## 1.4 Merging DFs"
   ]
  },
  {
   "cell_type": "code",
   "execution_count": 13,
   "id": "246709a1",
   "metadata": {
    "ExecuteTime": {
     "end_time": "2022-11-16T00:57:55.795422Z",
     "start_time": "2022-11-16T00:57:55.776427Z"
    },
    "hidden": true,
    "scrolled": true
   },
   "outputs": [],
   "source": [
    "df_games_ratings = df_games.merge(df_home_ratings, how='left', on=['home_teams', 'year'])\n",
    "df_games_ratings.loc[df_games_ratings['home_teams'] == 'korea dpr', 'rating'] = 285\n",
    "\n",
    "df_games_ratings_final = df_games_ratings.merge(df_away_ratings, how='left', on=['away_teams', 'year'])\n",
    "df_games_ratings_final.loc[df_games_ratings_final['away_teams'] == 'korea dpr', 'rating_y'] = 285"
   ]
  },
  {
   "cell_type": "markdown",
   "id": "05fc2c3a",
   "metadata": {
    "hidden": true
   },
   "source": [
    "### 1.4.1 Renaming ratings columns"
   ]
  },
  {
   "cell_type": "code",
   "execution_count": 19,
   "id": "d8a70008",
   "metadata": {
    "ExecuteTime": {
     "end_time": "2022-11-16T00:58:06.755721Z",
     "start_time": "2022-11-16T00:58:06.736862Z"
    },
    "hidden": true
   },
   "outputs": [],
   "source": [
    "df_games_ratings_final = df_games_ratings_final.rename(columns={'rating_x': 'rating_home_teams', 'rating_y': 'rating_away_teams'})"
   ]
  },
  {
   "cell_type": "code",
   "execution_count": 456,
   "id": "d92e30c9",
   "metadata": {
    "ExecuteTime": {
     "end_time": "2022-11-16T06:10:31.892379Z",
     "start_time": "2022-11-16T06:10:31.877082Z"
    },
    "hidden": true
   },
   "outputs": [
    {
     "data": {
      "text/html": [
       "<div>\n",
       "<style scoped>\n",
       "    .dataframe tbody tr th:only-of-type {\n",
       "        vertical-align: middle;\n",
       "    }\n",
       "\n",
       "    .dataframe tbody tr th {\n",
       "        vertical-align: top;\n",
       "    }\n",
       "\n",
       "    .dataframe thead th {\n",
       "        text-align: right;\n",
       "    }\n",
       "</style>\n",
       "<table border=\"1\" class=\"dataframe\">\n",
       "  <thead>\n",
       "    <tr style=\"text-align: right;\">\n",
       "      <th></th>\n",
       "      <th>home_teams</th>\n",
       "      <th>away_teams</th>\n",
       "      <th>home_goals</th>\n",
       "      <th>away_goals</th>\n",
       "      <th>year</th>\n",
       "      <th>rating_home_teams</th>\n",
       "      <th>rating_away_teams</th>\n",
       "    </tr>\n",
       "  </thead>\n",
       "  <tbody>\n",
       "    <tr>\n",
       "      <th>0</th>\n",
       "      <td>russia</td>\n",
       "      <td>saudi arabia</td>\n",
       "      <td>5</td>\n",
       "      <td>0</td>\n",
       "      <td>2018</td>\n",
       "      <td>457.0</td>\n",
       "      <td>465.0</td>\n",
       "    </tr>\n",
       "    <tr>\n",
       "      <th>16</th>\n",
       "      <td>russia</td>\n",
       "      <td>egypt</td>\n",
       "      <td>3</td>\n",
       "      <td>1</td>\n",
       "      <td>2018</td>\n",
       "      <td>457.0</td>\n",
       "      <td>649.0</td>\n",
       "    </tr>\n",
       "    <tr>\n",
       "      <th>64</th>\n",
       "      <td>russia</td>\n",
       "      <td>korea republic</td>\n",
       "      <td>1</td>\n",
       "      <td>1</td>\n",
       "      <td>2014</td>\n",
       "      <td>893.0</td>\n",
       "      <td>547.0</td>\n",
       "    </tr>\n",
       "    <tr>\n",
       "      <th>206</th>\n",
       "      <td>russia</td>\n",
       "      <td>tunisia</td>\n",
       "      <td>2</td>\n",
       "      <td>0</td>\n",
       "      <td>2002</td>\n",
       "      <td>644.0</td>\n",
       "      <td>635.0</td>\n",
       "    </tr>\n",
       "    <tr>\n",
       "      <th>319</th>\n",
       "      <td>russia</td>\n",
       "      <td>cameroon</td>\n",
       "      <td>6</td>\n",
       "      <td>1</td>\n",
       "      <td>1994</td>\n",
       "      <td>50.0</td>\n",
       "      <td>46.0</td>\n",
       "    </tr>\n",
       "  </tbody>\n",
       "</table>\n",
       "</div>"
      ],
      "text/plain": [
       "    home_teams      away_teams  home_goals  away_goals  year  \\\n",
       "0       russia    saudi arabia           5           0  2018   \n",
       "16      russia           egypt           3           1  2018   \n",
       "64      russia  korea republic           1           1  2014   \n",
       "206     russia         tunisia           2           0  2002   \n",
       "319     russia        cameroon           6           1  1994   \n",
       "\n",
       "     rating_home_teams  rating_away_teams  \n",
       "0                457.0              465.0  \n",
       "16               457.0              649.0  \n",
       "64               893.0              547.0  \n",
       "206              644.0              635.0  \n",
       "319               50.0               46.0  "
      ]
     },
     "execution_count": 456,
     "metadata": {},
     "output_type": "execute_result"
    }
   ],
   "source": [
    "df_games_ratings_final[df_games_ratings_final['home_teams'] == 'russia']"
   ]
  },
  {
   "cell_type": "markdown",
   "id": "8a271103",
   "metadata": {
    "hidden": true
   },
   "source": [
    "### 1.4.2 Dropping team names columns"
   ]
  },
  {
   "cell_type": "code",
   "execution_count": 20,
   "id": "9d6214b0",
   "metadata": {
    "ExecuteTime": {
     "end_time": "2022-11-16T00:58:07.259041Z",
     "start_time": "2022-11-16T00:58:07.239061Z"
    },
    "hidden": true
   },
   "outputs": [],
   "source": [
    "df_final = df_games_ratings_final.drop(['home_teams', 'away_teams'], axis=1)"
   ]
  },
  {
   "cell_type": "code",
   "execution_count": 309,
   "id": "eb3b21a1",
   "metadata": {
    "ExecuteTime": {
     "end_time": "2022-11-16T02:19:14.622997Z",
     "start_time": "2022-11-16T02:19:14.607998Z"
    },
    "hidden": true,
    "scrolled": false
   },
   "outputs": [
    {
     "data": {
      "text/html": [
       "<div>\n",
       "<style scoped>\n",
       "    .dataframe tbody tr th:only-of-type {\n",
       "        vertical-align: middle;\n",
       "    }\n",
       "\n",
       "    .dataframe tbody tr th {\n",
       "        vertical-align: top;\n",
       "    }\n",
       "\n",
       "    .dataframe thead th {\n",
       "        text-align: right;\n",
       "    }\n",
       "</style>\n",
       "<table border=\"1\" class=\"dataframe\">\n",
       "  <thead>\n",
       "    <tr style=\"text-align: right;\">\n",
       "      <th></th>\n",
       "      <th>home_goals</th>\n",
       "      <th>away_goals</th>\n",
       "      <th>year</th>\n",
       "      <th>rating_home_teams</th>\n",
       "      <th>rating_away_teams</th>\n",
       "      <th>results</th>\n",
       "      <th>rating_diff</th>\n",
       "    </tr>\n",
       "  </thead>\n",
       "  <tbody>\n",
       "    <tr>\n",
       "      <th>0</th>\n",
       "      <td>5</td>\n",
       "      <td>0</td>\n",
       "      <td>2018</td>\n",
       "      <td>457.0</td>\n",
       "      <td>465.0</td>\n",
       "      <td>1</td>\n",
       "      <td>64.0</td>\n",
       "    </tr>\n",
       "    <tr>\n",
       "      <th>1</th>\n",
       "      <td>0</td>\n",
       "      <td>1</td>\n",
       "      <td>2018</td>\n",
       "      <td>649.0</td>\n",
       "      <td>1018.0</td>\n",
       "      <td>2</td>\n",
       "      <td>136161.0</td>\n",
       "    </tr>\n",
       "    <tr>\n",
       "      <th>2</th>\n",
       "      <td>0</td>\n",
       "      <td>1</td>\n",
       "      <td>2018</td>\n",
       "      <td>686.0</td>\n",
       "      <td>708.0</td>\n",
       "      <td>2</td>\n",
       "      <td>484.0</td>\n",
       "    </tr>\n",
       "    <tr>\n",
       "      <th>3</th>\n",
       "      <td>3</td>\n",
       "      <td>3</td>\n",
       "      <td>2018</td>\n",
       "      <td>1274.0</td>\n",
       "      <td>1126.0</td>\n",
       "      <td>0</td>\n",
       "      <td>21904.0</td>\n",
       "    </tr>\n",
       "    <tr>\n",
       "      <th>4</th>\n",
       "      <td>2</td>\n",
       "      <td>1</td>\n",
       "      <td>2018</td>\n",
       "      <td>1198.0</td>\n",
       "      <td>718.0</td>\n",
       "      <td>1</td>\n",
       "      <td>230400.0</td>\n",
       "    </tr>\n",
       "  </tbody>\n",
       "</table>\n",
       "</div>"
      ],
      "text/plain": [
       "   home_goals  away_goals  year  rating_home_teams  rating_away_teams  \\\n",
       "0           5           0  2018              457.0              465.0   \n",
       "1           0           1  2018              649.0             1018.0   \n",
       "2           0           1  2018              686.0              708.0   \n",
       "3           3           3  2018             1274.0             1126.0   \n",
       "4           2           1  2018             1198.0              718.0   \n",
       "\n",
       "   results  rating_diff  \n",
       "0        1         64.0  \n",
       "1        2     136161.0  \n",
       "2        2        484.0  \n",
       "3        0      21904.0  \n",
       "4        1     230400.0  "
      ]
     },
     "execution_count": 309,
     "metadata": {},
     "output_type": "execute_result"
    }
   ],
   "source": [
    "df_final.head()"
   ]
  },
  {
   "cell_type": "markdown",
   "id": "df42e1bf",
   "metadata": {
    "hidden": true
   },
   "source": [
    "## 1.5 Creating Results Column"
   ]
  },
  {
   "cell_type": "code",
   "execution_count": 22,
   "id": "2cded463",
   "metadata": {
    "ExecuteTime": {
     "end_time": "2022-11-16T00:58:12.878249Z",
     "start_time": "2022-11-16T00:58:12.871261Z"
    },
    "hidden": true
   },
   "outputs": [],
   "source": [
    "df_final['results'] = 0\n",
    "\n",
    "df_final.loc[df_final['home_goals'] == df_final['away_goals'], 'results'] = 0\n",
    "df_final.loc[df_final['home_goals'] > df_final['away_goals'], 'results'] = 1\n",
    "df_final.loc[df_final['home_goals'] < df_final['away_goals'], 'results'] = 2"
   ]
  },
  {
   "cell_type": "code",
   "execution_count": 25,
   "id": "05c761d4",
   "metadata": {
    "ExecuteTime": {
     "end_time": "2022-11-16T00:58:14.810194Z",
     "start_time": "2022-11-16T00:58:14.781223Z"
    },
    "hidden": true
   },
   "outputs": [
    {
     "data": {
      "text/html": [
       "<div>\n",
       "<style scoped>\n",
       "    .dataframe tbody tr th:only-of-type {\n",
       "        vertical-align: middle;\n",
       "    }\n",
       "\n",
       "    .dataframe tbody tr th {\n",
       "        vertical-align: top;\n",
       "    }\n",
       "\n",
       "    .dataframe thead th {\n",
       "        text-align: right;\n",
       "    }\n",
       "</style>\n",
       "<table border=\"1\" class=\"dataframe\">\n",
       "  <thead>\n",
       "    <tr style=\"text-align: right;\">\n",
       "      <th></th>\n",
       "      <th>home_goals</th>\n",
       "      <th>away_goals</th>\n",
       "      <th>year</th>\n",
       "      <th>rating_home_teams</th>\n",
       "      <th>rating_away_teams</th>\n",
       "      <th>results</th>\n",
       "      <th>rating_diff</th>\n",
       "    </tr>\n",
       "  </thead>\n",
       "  <tbody>\n",
       "    <tr>\n",
       "      <th>0</th>\n",
       "      <td>5</td>\n",
       "      <td>0</td>\n",
       "      <td>2018</td>\n",
       "      <td>457.0</td>\n",
       "      <td>465.0</td>\n",
       "      <td>1</td>\n",
       "      <td>64.0</td>\n",
       "    </tr>\n",
       "    <tr>\n",
       "      <th>1</th>\n",
       "      <td>0</td>\n",
       "      <td>1</td>\n",
       "      <td>2018</td>\n",
       "      <td>649.0</td>\n",
       "      <td>1018.0</td>\n",
       "      <td>2</td>\n",
       "      <td>136161.0</td>\n",
       "    </tr>\n",
       "    <tr>\n",
       "      <th>2</th>\n",
       "      <td>0</td>\n",
       "      <td>1</td>\n",
       "      <td>2018</td>\n",
       "      <td>686.0</td>\n",
       "      <td>708.0</td>\n",
       "      <td>2</td>\n",
       "      <td>484.0</td>\n",
       "    </tr>\n",
       "    <tr>\n",
       "      <th>3</th>\n",
       "      <td>3</td>\n",
       "      <td>3</td>\n",
       "      <td>2018</td>\n",
       "      <td>1274.0</td>\n",
       "      <td>1126.0</td>\n",
       "      <td>0</td>\n",
       "      <td>21904.0</td>\n",
       "    </tr>\n",
       "    <tr>\n",
       "      <th>4</th>\n",
       "      <td>2</td>\n",
       "      <td>1</td>\n",
       "      <td>2018</td>\n",
       "      <td>1198.0</td>\n",
       "      <td>718.0</td>\n",
       "      <td>1</td>\n",
       "      <td>230400.0</td>\n",
       "    </tr>\n",
       "    <tr>\n",
       "      <th>...</th>\n",
       "      <td>...</td>\n",
       "      <td>...</td>\n",
       "      <td>...</td>\n",
       "      <td>...</td>\n",
       "      <td>...</td>\n",
       "      <td>...</td>\n",
       "      <td>...</td>\n",
       "    </tr>\n",
       "    <tr>\n",
       "      <th>319</th>\n",
       "      <td>6</td>\n",
       "      <td>1</td>\n",
       "      <td>1994</td>\n",
       "      <td>50.0</td>\n",
       "      <td>46.0</td>\n",
       "      <td>1</td>\n",
       "      <td>16.0</td>\n",
       "    </tr>\n",
       "    <tr>\n",
       "      <th>320</th>\n",
       "      <td>0</td>\n",
       "      <td>1</td>\n",
       "      <td>1994</td>\n",
       "      <td>44.0</td>\n",
       "      <td>40.0</td>\n",
       "      <td>2</td>\n",
       "      <td>16.0</td>\n",
       "    </tr>\n",
       "    <tr>\n",
       "      <th>321</th>\n",
       "      <td>1</td>\n",
       "      <td>2</td>\n",
       "      <td>1994</td>\n",
       "      <td>44.0</td>\n",
       "      <td>59.0</td>\n",
       "      <td>2</td>\n",
       "      <td>225.0</td>\n",
       "    </tr>\n",
       "    <tr>\n",
       "      <th>322</th>\n",
       "      <td>0</td>\n",
       "      <td>2</td>\n",
       "      <td>1994</td>\n",
       "      <td>41.0</td>\n",
       "      <td>54.0</td>\n",
       "      <td>2</td>\n",
       "      <td>169.0</td>\n",
       "    </tr>\n",
       "    <tr>\n",
       "      <th>323</th>\n",
       "      <td>0</td>\n",
       "      <td>2</td>\n",
       "      <td>1994</td>\n",
       "      <td>55.0</td>\n",
       "      <td>44.0</td>\n",
       "      <td>2</td>\n",
       "      <td>121.0</td>\n",
       "    </tr>\n",
       "  </tbody>\n",
       "</table>\n",
       "<p>324 rows × 7 columns</p>\n",
       "</div>"
      ],
      "text/plain": [
       "     home_goals  away_goals  year  rating_home_teams  rating_away_teams  \\\n",
       "0             5           0  2018              457.0              465.0   \n",
       "1             0           1  2018              649.0             1018.0   \n",
       "2             0           1  2018              686.0              708.0   \n",
       "3             3           3  2018             1274.0             1126.0   \n",
       "4             2           1  2018             1198.0              718.0   \n",
       "..          ...         ...   ...                ...                ...   \n",
       "319           6           1  1994               50.0               46.0   \n",
       "320           0           1  1994               44.0               40.0   \n",
       "321           1           2  1994               44.0               59.0   \n",
       "322           0           2  1994               41.0               54.0   \n",
       "323           0           2  1994               55.0               44.0   \n",
       "\n",
       "     results  rating_diff  \n",
       "0          1         64.0  \n",
       "1          2     136161.0  \n",
       "2          2        484.0  \n",
       "3          0      21904.0  \n",
       "4          1     230400.0  \n",
       "..       ...          ...  \n",
       "319        1         16.0  \n",
       "320        2         16.0  \n",
       "321        2        225.0  \n",
       "322        2        169.0  \n",
       "323        2        121.0  \n",
       "\n",
       "[324 rows x 7 columns]"
      ]
     },
     "execution_count": 25,
     "metadata": {},
     "output_type": "execute_result"
    }
   ],
   "source": [
    "df_final.head()"
   ]
  },
  {
   "cell_type": "markdown",
   "id": "d80bf724",
   "metadata": {},
   "source": [
    "# 2.0 Model Creation"
   ]
  },
  {
   "cell_type": "markdown",
   "id": "c64d9e99",
   "metadata": {},
   "source": [
    "## 2.1 Features and Labels"
   ]
  },
  {
   "cell_type": "code",
   "execution_count": 1749,
   "id": "140b58fc",
   "metadata": {
    "ExecuteTime": {
     "end_time": "2022-11-17T06:15:47.215078Z",
     "start_time": "2022-11-17T06:15:47.196097Z"
    }
   },
   "outputs": [],
   "source": [
    "df_final_ = df_final[(df_final['year'] != 1994) & (df_final['year'] != 1998)]"
   ]
  },
  {
   "cell_type": "code",
   "execution_count": 1750,
   "id": "5006939b",
   "metadata": {
    "ExecuteTime": {
     "end_time": "2022-11-17T06:15:48.326064Z",
     "start_time": "2022-11-17T06:15:48.310435Z"
    },
    "collapsed": true
   },
   "outputs": [
    {
     "name": "stderr",
     "output_type": "stream",
     "text": [
      "<ipython-input-1750-ed00235dc8ff>:1: SettingWithCopyWarning: \n",
      "A value is trying to be set on a copy of a slice from a DataFrame.\n",
      "Try using .loc[row_indexer,col_indexer] = value instead\n",
      "\n",
      "See the caveats in the documentation: https://pandas.pydata.org/pandas-docs/stable/user_guide/indexing.html#returning-a-view-versus-a-copy\n",
      "  df_final_['rating_diff'] = abs(df_final_['rating_home_teams'] - df_final_['rating_away_teams'])\n"
     ]
    }
   ],
   "source": [
    "df_final_['rating_diff'] = abs(df_final_['rating_home_teams'] - df_final_['rating_away_teams'])"
   ]
  },
  {
   "cell_type": "code",
   "execution_count": 1751,
   "id": "176d4956",
   "metadata": {
    "ExecuteTime": {
     "end_time": "2022-11-17T06:15:56.157730Z",
     "start_time": "2022-11-17T06:15:56.143743Z"
    }
   },
   "outputs": [],
   "source": [
    "df_final_no_outliers = df_final_.drop(df_final_[((df_final_['rating_diff']) > 900)].index)"
   ]
  },
  {
   "cell_type": "code",
   "execution_count": 1752,
   "id": "4a7300fb",
   "metadata": {
    "ExecuteTime": {
     "end_time": "2022-11-17T06:15:57.583779Z",
     "start_time": "2022-11-17T06:15:57.575768Z"
    }
   },
   "outputs": [],
   "source": [
    "features_no_outliers = df_final_no_outliers[['rating_home_teams', 'rating_away_teams']]\n",
    "features = df_final_[['rating_home_teams', 'rating_away_teams']]\n",
    "labels = df_final_[['home_goals', 'away_goals']]\n",
    "labels_no_outliers = df_final_no_outliers[['home_goals', 'away_goals']]"
   ]
  },
  {
   "cell_type": "markdown",
   "id": "d131ed91",
   "metadata": {},
   "source": [
    "## 2.2 MinMax features"
   ]
  },
  {
   "cell_type": "code",
   "execution_count": 1753,
   "id": "47928a54",
   "metadata": {
    "ExecuteTime": {
     "end_time": "2022-11-17T06:15:59.116567Z",
     "start_time": "2022-11-17T06:15:59.095606Z"
    }
   },
   "outputs": [],
   "source": [
    "scaler = MinMaxScaler().fit(features_no_outliers)\n",
    "features_scale = scaler.transform(features_no_outliers)"
   ]
  },
  {
   "cell_type": "code",
   "execution_count": 1754,
   "id": "3080b8e1",
   "metadata": {
    "ExecuteTime": {
     "end_time": "2022-11-17T06:15:59.547415Z",
     "start_time": "2022-11-17T06:15:59.534436Z"
    }
   },
   "outputs": [],
   "source": [
    "X = features_scale\n",
    "y = labels_no_outliers.values"
   ]
  },
  {
   "cell_type": "markdown",
   "id": "b725b0e4",
   "metadata": {},
   "source": [
    "## 2.3 Splitting in train and test"
   ]
  },
  {
   "cell_type": "code",
   "execution_count": 1782,
   "id": "939b73ac",
   "metadata": {
    "ExecuteTime": {
     "end_time": "2022-11-17T06:18:20.478049Z",
     "start_time": "2022-11-17T06:18:20.471049Z"
    }
   },
   "outputs": [],
   "source": [
    "X_train, X_test, y_train, y_test = train_test_split(X, y, random_state=42, train_size=0.7)"
   ]
  },
  {
   "cell_type": "code",
   "execution_count": 1783,
   "id": "d24b1d06",
   "metadata": {
    "ExecuteTime": {
     "end_time": "2022-11-17T06:18:21.668368Z",
     "start_time": "2022-11-17T06:18:21.663372Z"
    }
   },
   "outputs": [
    {
     "data": {
      "text/plain": [
       "71"
      ]
     },
     "execution_count": 1783,
     "metadata": {},
     "output_type": "execute_result"
    }
   ],
   "source": [
    "len(y_test)"
   ]
  },
  {
   "cell_type": "markdown",
   "id": "cc6882eb",
   "metadata": {},
   "source": [
    "## 2.4 MultiOutputClassifier Model"
   ]
  },
  {
   "cell_type": "code",
   "execution_count": 1784,
   "id": "2a32672b",
   "metadata": {
    "ExecuteTime": {
     "end_time": "2022-11-17T06:18:22.743713Z",
     "start_time": "2022-11-17T06:18:22.474387Z"
    }
   },
   "outputs": [
    {
     "data": {
      "text/plain": [
       "<AxesSubplot:xlabel='previsao', ylabel='real'>"
      ]
     },
     "execution_count": 1784,
     "metadata": {},
     "output_type": "execute_result"
    },
    {
     "data": {
      "image/png": "[encoded data removed]",
      "text/plain": [
       "<Figure size 432x288 with 2 Axes>"
      ]
     },
     "metadata": {
      "needs_background": "light"
     },
     "output_type": "display_data"
    }
   ],
   "source": [
    "knn = KNeighborsClassifier(n_neighbors=31)\n",
    "clf_LR = MultiOutputClassifier(knn, n_jobs=-1)\n",
    "clf_LR.fit(X_train, y_train)\n",
    "pred_multi = clf_LR.predict(X_test)\n",
    "\n",
    "\n",
    "df_pred = confusion_matrix_data(pred_multi, y_test)\n",
    "\n",
    "cf_matrix=pd.crosstab(df_pred['result_test'], df_pred['result'], rownames=['real'], colnames=['previsao'])\n",
    "\n",
    "sns.heatmap(cf_matrix, annot=True, cmap='Blues')"
   ]
  },
  {
   "cell_type": "code",
   "execution_count": 1694,
   "id": "45553a0a",
   "metadata": {
    "ExecuteTime": {
     "end_time": "2022-11-17T02:05:59.247898Z",
     "start_time": "2022-11-17T02:05:59.236399Z"
    }
   },
   "outputs": [],
   "source": [
    "scaler = MinMaxScaler().fit(prediction_final)\n",
    "features_scale = scaler.transform(prediction_final)"
   ]
  },
  {
   "cell_type": "code",
   "execution_count": 1695,
   "id": "d94733e0",
   "metadata": {
    "ExecuteTime": {
     "end_time": "2022-11-17T02:05:59.609490Z",
     "start_time": "2022-11-17T02:05:59.593509Z"
    },
    "scrolled": true
   },
   "outputs": [],
   "source": [
    "final_predictions = clf_LR.predict(features_scale)"
   ]
  },
  {
   "cell_type": "code",
   "execution_count": 1696,
   "id": "db5d85d8",
   "metadata": {
    "ExecuteTime": {
     "end_time": "2022-11-17T02:05:59.922754Z",
     "start_time": "2022-11-17T02:05:59.918472Z"
    },
    "scrolled": true
   },
   "outputs": [],
   "source": [
    "final_predictions = final_predictions.tolist()"
   ]
  },
  {
   "cell_type": "code",
   "execution_count": 1718,
   "id": "f7953277",
   "metadata": {
    "ExecuteTime": {
     "end_time": "2022-11-17T02:11:21.880231Z",
     "start_time": "2022-11-17T02:11:21.867456Z"
    },
    "scrolled": true
   },
   "outputs": [
    {
     "data": {
      "text/plain": [
       "[[1, 1],\n",
       " [0, 1],\n",
       " [2, 1],\n",
       " [0, 0],\n",
       " [2, 1],\n",
       " [2, 1],\n",
       " [0, 1],\n",
       " [2, 1],\n",
       " [2, 1],\n",
       " [2, 1],\n",
       " [2, 1],\n",
       " [0, 1],\n",
       " [1, 0],\n",
       " [1, 1],\n",
       " [2, 0],\n",
       " [2, 0],\n",
       " [0, 1],\n",
       " [0, 1],\n",
       " [2, 1],\n",
       " [0, 1],\n",
       " [0, 1],\n",
       " [2, 0],\n",
       " [0, 0],\n",
       " [1, 0],\n",
       " [0, 1],\n",
       " [2, 0],\n",
       " [2, 0],\n",
       " [2, 0],\n",
       " [0, 1],\n",
       " [2, 0],\n",
       " [2, 0],\n",
       " [0, 0],\n",
       " [0, 1],\n",
       " [0, 1],\n",
       " [1, 1],\n",
       " [2, 0],\n",
       " [0, 1],\n",
       " [0, 1],\n",
       " [0, 1],\n",
       " [0, 1],\n",
       " [0, 1],\n",
       " [0, 1],\n",
       " [0, 1],\n",
       " [0, 1],\n",
       " [0, 1],\n",
       " [0, 1],\n",
       " [0, 1],\n",
       " [0, 1]]"
      ]
     },
     "execution_count": 1718,
     "metadata": {},
     "output_type": "execute_result"
    }
   ],
   "source": [
    "final_predictions"
   ]
  },
  {
   "cell_type": "code",
   "execution_count": 1622,
   "id": "3bba4722",
   "metadata": {
    "ExecuteTime": {
     "end_time": "2022-11-17T01:54:18.631836Z",
     "start_time": "2022-11-17T01:54:18.622838Z"
    },
    "scrolled": false
   },
   "outputs": [],
   "source": [
    "final_predictions.insert(0, ['home_goals', 'away_goals'])"
   ]
  },
  {
   "cell_type": "code",
   "execution_count": 1717,
   "id": "60cc0d61",
   "metadata": {
    "ExecuteTime": {
     "end_time": "2022-11-17T02:11:17.309176Z",
     "start_time": "2022-11-17T02:11:17.293222Z"
    }
   },
   "outputs": [],
   "source": [
    "with open(\"world_cup_predictions.csv\", \"w\", newline=\"\") as f:\n",
    "    writer = csv.writer(f)\n",
    "    writer.writerows(final_predictions)"
   ]
  },
  {
   "cell_type": "code",
   "execution_count": null,
   "id": "8af47464",
   "metadata": {},
   "outputs": [],
   "source": [
    "df_final_pred = pd.concat(pd.read_excel(f1))"
   ]
  },
  {
   "cell_type": "code",
   "execution_count": null,
   "id": "b7694fbc",
   "metadata": {},
   "outputs": [],
   "source": []
  },
  {
   "cell_type": "markdown",
   "id": "447ec99b",
   "metadata": {},
   "source": [
    "## 2.6 SVC model"
   ]
  },
  {
   "cell_type": "markdown",
   "id": "4c3f29d8",
   "metadata": {},
   "source": [
    "## 2.7 Decision tree model"
   ]
  },
  {
   "cell_type": "code",
   "execution_count": 1085,
   "id": "5a6781e2",
   "metadata": {
    "ExecuteTime": {
     "end_time": "2022-11-16T12:10:39.261083Z",
     "start_time": "2022-11-16T12:10:39.253078Z"
    }
   },
   "outputs": [],
   "source": [
    "# decision tree\n",
    "\n",
    "clf = DecisionTreeClassifier(random_state=42)\n",
    "clf.fit(X_train, y_train)\n",
    "pred_tree = clf.predict(X_test)\n",
    "\n",
    "#dt_acc = accuracy_score(y_test, pred)\n",
    "#f1 = f1_score(y_test, pred, average = 'macro')\n",
    "\n",
    "#print(f\"Accuracy LogisticRegression: {dt_acc}\")\n",
    "#print(f\"F1 Score: {f1}\")"
   ]
  },
  {
   "cell_type": "code",
   "execution_count": 1175,
   "id": "c62bbdc0",
   "metadata": {
    "ExecuteTime": {
     "end_time": "2022-11-16T14:19:50.631757Z",
     "start_time": "2022-11-16T14:19:50.607741Z"
    }
   },
   "outputs": [],
   "source": []
  },
  {
   "cell_type": "code",
   "execution_count": 1179,
   "id": "9ca6a6ea",
   "metadata": {
    "ExecuteTime": {
     "end_time": "2022-11-16T14:20:46.893750Z",
     "start_time": "2022-11-16T14:20:46.869640Z"
    }
   },
   "outputs": [],
   "source": [
    "df_pred = confusion_matrix_data(pred_tree, y_test)"
   ]
  },
  {
   "cell_type": "code",
   "execution_count": 1180,
   "id": "f3409586",
   "metadata": {
    "ExecuteTime": {
     "end_time": "2022-11-16T14:20:47.484665Z",
     "start_time": "2022-11-16T14:20:47.139747Z"
    }
   },
   "outputs": [
    {
     "data": {
      "text/plain": [
       "<AxesSubplot:xlabel='previsao', ylabel='real'>"
      ]
     },
     "execution_count": 1180,
     "metadata": {},
     "output_type": "execute_result"
    },
    {
     "data": {
      "image/png": "[encoded data removed]",
      "text/plain": [
       "<Figure size 432x288 with 2 Axes>"
      ]
     },
     "metadata": {
      "needs_background": "light"
     },
     "output_type": "display_data"
    }
   ],
   "source": [
    "cf_matrix=pd.crosstab(df_pred['result_test'], df_pred['result'], rownames=['real'], colnames=['previsao'])\n",
    "\n",
    "sns.heatmap(cf_matrix, annot=True, cmap='Blues')"
   ]
  },
  {
   "cell_type": "code",
   "execution_count": null,
   "id": "1386b64b",
   "metadata": {},
   "outputs": [],
   "source": []
  },
  {
   "cell_type": "code",
   "execution_count": 1081,
   "id": "80c3ad6f",
   "metadata": {
    "ExecuteTime": {
     "end_time": "2022-11-16T12:09:45.017871Z",
     "start_time": "2022-11-16T12:09:44.995911Z"
    }
   },
   "outputs": [
    {
     "name": "stdout",
     "output_type": "stream",
     "text": [
      "[0.25113122 0.46983409]\n",
      "[2 0]\n",
      "[0.63348416 0.57767722]\n",
      "[0 1]\n",
      "[0.68174962 0.31598793]\n",
      "[2 1]\n",
      "[1. 0.]\n",
      "[2 1]\n",
      "[0.71342383 0.36349925]\n",
      "[2 0]\n",
      "[0.34992459 0.29562594]\n",
      "[1 1]\n",
      "[0.27828054 0.21191554]\n",
      "[3 0]\n",
      "[0.2571644  0.64253394]\n",
      "[1 4]\n",
      "[0.96003017 0.53092006]\n",
      "[0 1]\n",
      "[0.43815988 0.33861237]\n",
      "[0 0]\n",
      "[0.41704374 0.52865762]\n",
      "[0 1]\n",
      "[0.27073906 0.26395173]\n",
      "[2 0]\n",
      "[0.51206637 0.45098039]\n",
      "[2 1]\n",
      "[0.36726998 0.23755656]\n",
      "[0 2]\n",
      "[0.59653092 0.26168929]\n",
      "[4 1]\n",
      "[0.2745098  0.29110106]\n",
      "[1 3]\n",
      "[0.36726998 0.33408748]\n",
      "[0 2]\n",
      "[0.67722474 0.41704374]\n",
      "[1 2]\n",
      "[0.24660633 0.31674208]\n",
      "[3 1]\n",
      "[0.72699849 0.        ]\n",
      "[7 0]\n",
      "[0.9653092  0.33861237]\n",
      "[2 0]\n",
      "[0.31900452 0.63423831]\n",
      "[0 1]\n",
      "[0.25565611 0.27903469]\n",
      "[1 0]\n",
      "[0.17797888 0.41704374]\n",
      "[2 2]\n",
      "[0.26093514 0.30995475]\n",
      "[0 3]\n",
      "[0.35671192 0.30241327]\n",
      "[3 1]\n",
      "[0.86425339 0.6892911 ]\n",
      "[1 1]\n",
      "[0.37631976 0.27828054]\n",
      "[2 1]\n",
      "[0.26395173 0.26319759]\n",
      "[0 2]\n",
      "[0.35520362 0.36726998]\n",
      "[0 3]\n",
      "[0.08069382 0.46003017]\n",
      "[1 1]\n",
      "[0.28657617 0.37631976]\n",
      "[1 1]\n",
      "[0.35143288 0.6892911 ]\n",
      "[1 2]\n",
      "[0.28959276 0.24509804]\n",
      "[3 2]\n",
      "[0.55279035 0.13574661]\n",
      "[1 0]\n",
      "[0.65007541 0.60708899]\n",
      "[2 1]\n",
      "[0.38989442 0.23680241]\n",
      "[0 1]\n",
      "[0.39517345 0.2571644 ]\n",
      "[2 1]\n",
      "[0.56561086 0.68174962]\n",
      "[2 2]\n",
      "[0.35520362 0.30769231]\n",
      "[3 1]\n",
      "[0.2918552 0.3092006]\n",
      "[0 2]\n",
      "[0.08069382 0.46304676]\n",
      "[0 3]\n",
      "[0.239819   0.30542986]\n",
      "[1 1]\n",
      "[0.12971342 0.2745098 ]\n",
      "[3 1]\n",
      "[0.34992459 0.27375566]\n",
      "[0 0]\n",
      "[0.90497738 0.55882353]\n",
      "[0 2]\n",
      "[0.36425339 0.28959276]\n",
      "[2 1]\n",
      "[0.25113122 0.72096531]\n",
      "[1 2]\n",
      "[0.36349925 0.29939668]\n",
      "[1 3]\n",
      "[0.26847662 0.26772247]\n",
      "[0 0]\n",
      "[0.26319759 0.2775264 ]\n",
      "[2 2]\n",
      "[0.30241327 0.24660633]\n",
      "[2 2]\n",
      "[0.30542986 0.33257919]\n",
      "[3 2]\n",
      "[0.2933635 0.2918552]\n",
      "[1 1]\n",
      "[0.28054299 0.38989442]\n",
      "[2 0]\n",
      "[0.28054299 0.23680241]\n",
      "[1 1]\n",
      "[0.57239819 0.46003017]\n",
      "[0 2]\n",
      "[0.26998492 0.27828054]\n",
      "[1 1]\n",
      "[0.33634992 0.38159879]\n",
      "[1 2]\n",
      "[0.40346908 0.09426848]\n",
      "[0 0]\n"
     ]
    }
   ],
   "source": [
    "for i in range(len(X_test)):\n",
    "    print(X_test[i])\n",
    "    print(y_test[i])"
   ]
  },
  {
   "cell_type": "markdown",
   "id": "92a60bd5",
   "metadata": {},
   "source": [
    "## 2.8 Random Forest model"
   ]
  },
  {
   "cell_type": "code",
   "execution_count": 643,
   "id": "ae18f7d6",
   "metadata": {
    "ExecuteTime": {
     "end_time": "2022-11-16T07:08:06.587305Z",
     "start_time": "2022-11-16T07:08:06.419312Z"
    }
   },
   "outputs": [],
   "source": [
    "# Random Forest\n",
    "\n",
    "clf = RandomForestClassifier()\n",
    "clf.fit(X_train, y_train)\n",
    "pred_random = clf.predict(X_test)\n",
    "\n",
    "#dt_acc = accuracy_score(y_test, pred)\n",
    "#f1 = f1_score(y_test, pred, average = 'macro')\n",
    "\n",
    "#print(f\"Accuracy LogisticRegression: {dt_acc}\")\n",
    "#print(f\"F1 Score: {f1}\")"
   ]
  },
  {
   "cell_type": "code",
   "execution_count": 644,
   "id": "46d17802",
   "metadata": {
    "ExecuteTime": {
     "end_time": "2022-11-16T07:08:14.632741Z",
     "start_time": "2022-11-16T07:08:14.617764Z"
    }
   },
   "outputs": [],
   "source": [
    "df_pred_random_forest = confusion_matrix_data(pred_random, y_test)"
   ]
  },
  {
   "cell_type": "code",
   "execution_count": 645,
   "id": "194b973f",
   "metadata": {
    "ExecuteTime": {
     "end_time": "2022-11-16T07:08:16.135996Z",
     "start_time": "2022-11-16T07:08:16.107026Z"
    },
    "scrolled": true
   },
   "outputs": [
    {
     "data": {
      "text/html": [
       "<div>\n",
       "<style scoped>\n",
       "    .dataframe tbody tr th:only-of-type {\n",
       "        vertical-align: middle;\n",
       "    }\n",
       "\n",
       "    .dataframe tbody tr th {\n",
       "        vertical-align: top;\n",
       "    }\n",
       "\n",
       "    .dataframe thead th {\n",
       "        text-align: right;\n",
       "    }\n",
       "</style>\n",
       "<table border=\"1\" class=\"dataframe\">\n",
       "  <thead>\n",
       "    <tr style=\"text-align: right;\">\n",
       "      <th></th>\n",
       "      <th>home_goals_pred</th>\n",
       "      <th>away_goals_pred</th>\n",
       "      <th>home_goals_test</th>\n",
       "      <th>away_goals_test</th>\n",
       "      <th>result_pred</th>\n",
       "      <th>result</th>\n",
       "      <th>result_test</th>\n",
       "    </tr>\n",
       "  </thead>\n",
       "  <tbody>\n",
       "    <tr>\n",
       "      <th>0</th>\n",
       "      <td>0</td>\n",
       "      <td>0</td>\n",
       "      <td>2</td>\n",
       "      <td>0</td>\n",
       "      <td>0</td>\n",
       "      <td>0.0</td>\n",
       "      <td>1</td>\n",
       "    </tr>\n",
       "    <tr>\n",
       "      <th>1</th>\n",
       "      <td>3</td>\n",
       "      <td>0</td>\n",
       "      <td>0</td>\n",
       "      <td>1</td>\n",
       "      <td>0</td>\n",
       "      <td>1.0</td>\n",
       "      <td>2</td>\n",
       "    </tr>\n",
       "    <tr>\n",
       "      <th>2</th>\n",
       "      <td>2</td>\n",
       "      <td>1</td>\n",
       "      <td>2</td>\n",
       "      <td>1</td>\n",
       "      <td>0</td>\n",
       "      <td>1.0</td>\n",
       "      <td>1</td>\n",
       "    </tr>\n",
       "    <tr>\n",
       "      <th>3</th>\n",
       "      <td>3</td>\n",
       "      <td>1</td>\n",
       "      <td>2</td>\n",
       "      <td>1</td>\n",
       "      <td>0</td>\n",
       "      <td>1.0</td>\n",
       "      <td>1</td>\n",
       "    </tr>\n",
       "    <tr>\n",
       "      <th>4</th>\n",
       "      <td>2</td>\n",
       "      <td>1</td>\n",
       "      <td>2</td>\n",
       "      <td>0</td>\n",
       "      <td>0</td>\n",
       "      <td>1.0</td>\n",
       "      <td>1</td>\n",
       "    </tr>\n",
       "    <tr>\n",
       "      <th>5</th>\n",
       "      <td>2</td>\n",
       "      <td>0</td>\n",
       "      <td>1</td>\n",
       "      <td>1</td>\n",
       "      <td>0</td>\n",
       "      <td>1.0</td>\n",
       "      <td>0</td>\n",
       "    </tr>\n",
       "    <tr>\n",
       "      <th>6</th>\n",
       "      <td>2</td>\n",
       "      <td>0</td>\n",
       "      <td>3</td>\n",
       "      <td>0</td>\n",
       "      <td>0</td>\n",
       "      <td>1.0</td>\n",
       "      <td>1</td>\n",
       "    </tr>\n",
       "    <tr>\n",
       "      <th>7</th>\n",
       "      <td>0</td>\n",
       "      <td>0</td>\n",
       "      <td>1</td>\n",
       "      <td>4</td>\n",
       "      <td>0</td>\n",
       "      <td>0.0</td>\n",
       "      <td>2</td>\n",
       "    </tr>\n",
       "    <tr>\n",
       "      <th>8</th>\n",
       "      <td>1</td>\n",
       "      <td>5</td>\n",
       "      <td>0</td>\n",
       "      <td>1</td>\n",
       "      <td>0</td>\n",
       "      <td>2.0</td>\n",
       "      <td>2</td>\n",
       "    </tr>\n",
       "    <tr>\n",
       "      <th>9</th>\n",
       "      <td>0</td>\n",
       "      <td>1</td>\n",
       "      <td>0</td>\n",
       "      <td>0</td>\n",
       "      <td>0</td>\n",
       "      <td>2.0</td>\n",
       "      <td>0</td>\n",
       "    </tr>\n",
       "    <tr>\n",
       "      <th>10</th>\n",
       "      <td>2</td>\n",
       "      <td>2</td>\n",
       "      <td>0</td>\n",
       "      <td>1</td>\n",
       "      <td>0</td>\n",
       "      <td>0.0</td>\n",
       "      <td>2</td>\n",
       "    </tr>\n",
       "    <tr>\n",
       "      <th>11</th>\n",
       "      <td>0</td>\n",
       "      <td>0</td>\n",
       "      <td>2</td>\n",
       "      <td>0</td>\n",
       "      <td>0</td>\n",
       "      <td>0.0</td>\n",
       "      <td>1</td>\n",
       "    </tr>\n",
       "    <tr>\n",
       "      <th>12</th>\n",
       "      <td>1</td>\n",
       "      <td>0</td>\n",
       "      <td>2</td>\n",
       "      <td>1</td>\n",
       "      <td>0</td>\n",
       "      <td>1.0</td>\n",
       "      <td>1</td>\n",
       "    </tr>\n",
       "    <tr>\n",
       "      <th>13</th>\n",
       "      <td>2</td>\n",
       "      <td>0</td>\n",
       "      <td>0</td>\n",
       "      <td>2</td>\n",
       "      <td>0</td>\n",
       "      <td>1.0</td>\n",
       "      <td>2</td>\n",
       "    </tr>\n",
       "    <tr>\n",
       "      <th>14</th>\n",
       "      <td>2</td>\n",
       "      <td>2</td>\n",
       "      <td>4</td>\n",
       "      <td>1</td>\n",
       "      <td>0</td>\n",
       "      <td>0.0</td>\n",
       "      <td>1</td>\n",
       "    </tr>\n",
       "    <tr>\n",
       "      <th>15</th>\n",
       "      <td>1</td>\n",
       "      <td>1</td>\n",
       "      <td>1</td>\n",
       "      <td>3</td>\n",
       "      <td>0</td>\n",
       "      <td>0.0</td>\n",
       "      <td>2</td>\n",
       "    </tr>\n",
       "    <tr>\n",
       "      <th>16</th>\n",
       "      <td>0</td>\n",
       "      <td>0</td>\n",
       "      <td>0</td>\n",
       "      <td>2</td>\n",
       "      <td>0</td>\n",
       "      <td>0.0</td>\n",
       "      <td>2</td>\n",
       "    </tr>\n",
       "    <tr>\n",
       "      <th>17</th>\n",
       "      <td>1</td>\n",
       "      <td>1</td>\n",
       "      <td>1</td>\n",
       "      <td>2</td>\n",
       "      <td>0</td>\n",
       "      <td>0.0</td>\n",
       "      <td>2</td>\n",
       "    </tr>\n",
       "    <tr>\n",
       "      <th>18</th>\n",
       "      <td>0</td>\n",
       "      <td>0</td>\n",
       "      <td>3</td>\n",
       "      <td>1</td>\n",
       "      <td>0</td>\n",
       "      <td>0.0</td>\n",
       "      <td>1</td>\n",
       "    </tr>\n",
       "    <tr>\n",
       "      <th>19</th>\n",
       "      <td>1</td>\n",
       "      <td>0</td>\n",
       "      <td>7</td>\n",
       "      <td>0</td>\n",
       "      <td>0</td>\n",
       "      <td>1.0</td>\n",
       "      <td>1</td>\n",
       "    </tr>\n",
       "    <tr>\n",
       "      <th>20</th>\n",
       "      <td>2</td>\n",
       "      <td>1</td>\n",
       "      <td>2</td>\n",
       "      <td>0</td>\n",
       "      <td>0</td>\n",
       "      <td>1.0</td>\n",
       "      <td>1</td>\n",
       "    </tr>\n",
       "    <tr>\n",
       "      <th>21</th>\n",
       "      <td>0</td>\n",
       "      <td>2</td>\n",
       "      <td>0</td>\n",
       "      <td>1</td>\n",
       "      <td>0</td>\n",
       "      <td>2.0</td>\n",
       "      <td>2</td>\n",
       "    </tr>\n",
       "    <tr>\n",
       "      <th>22</th>\n",
       "      <td>1</td>\n",
       "      <td>0</td>\n",
       "      <td>1</td>\n",
       "      <td>0</td>\n",
       "      <td>0</td>\n",
       "      <td>1.0</td>\n",
       "      <td>1</td>\n",
       "    </tr>\n",
       "    <tr>\n",
       "      <th>23</th>\n",
       "      <td>0</td>\n",
       "      <td>3</td>\n",
       "      <td>2</td>\n",
       "      <td>2</td>\n",
       "      <td>0</td>\n",
       "      <td>2.0</td>\n",
       "      <td>0</td>\n",
       "    </tr>\n",
       "    <tr>\n",
       "      <th>24</th>\n",
       "      <td>0</td>\n",
       "      <td>0</td>\n",
       "      <td>0</td>\n",
       "      <td>3</td>\n",
       "      <td>0</td>\n",
       "      <td>0.0</td>\n",
       "      <td>2</td>\n",
       "    </tr>\n",
       "    <tr>\n",
       "      <th>25</th>\n",
       "      <td>2</td>\n",
       "      <td>0</td>\n",
       "      <td>3</td>\n",
       "      <td>1</td>\n",
       "      <td>0</td>\n",
       "      <td>1.0</td>\n",
       "      <td>1</td>\n",
       "    </tr>\n",
       "    <tr>\n",
       "      <th>26</th>\n",
       "      <td>4</td>\n",
       "      <td>0</td>\n",
       "      <td>1</td>\n",
       "      <td>1</td>\n",
       "      <td>0</td>\n",
       "      <td>1.0</td>\n",
       "      <td>0</td>\n",
       "    </tr>\n",
       "    <tr>\n",
       "      <th>27</th>\n",
       "      <td>1</td>\n",
       "      <td>0</td>\n",
       "      <td>2</td>\n",
       "      <td>1</td>\n",
       "      <td>0</td>\n",
       "      <td>1.0</td>\n",
       "      <td>1</td>\n",
       "    </tr>\n",
       "    <tr>\n",
       "      <th>28</th>\n",
       "      <td>1</td>\n",
       "      <td>0</td>\n",
       "      <td>0</td>\n",
       "      <td>2</td>\n",
       "      <td>0</td>\n",
       "      <td>1.0</td>\n",
       "      <td>2</td>\n",
       "    </tr>\n",
       "    <tr>\n",
       "      <th>29</th>\n",
       "      <td>2</td>\n",
       "      <td>1</td>\n",
       "      <td>0</td>\n",
       "      <td>3</td>\n",
       "      <td>0</td>\n",
       "      <td>1.0</td>\n",
       "      <td>2</td>\n",
       "    </tr>\n",
       "    <tr>\n",
       "      <th>30</th>\n",
       "      <td>0</td>\n",
       "      <td>3</td>\n",
       "      <td>1</td>\n",
       "      <td>1</td>\n",
       "      <td>0</td>\n",
       "      <td>2.0</td>\n",
       "      <td>0</td>\n",
       "    </tr>\n",
       "    <tr>\n",
       "      <th>31</th>\n",
       "      <td>0</td>\n",
       "      <td>1</td>\n",
       "      <td>1</td>\n",
       "      <td>1</td>\n",
       "      <td>0</td>\n",
       "      <td>2.0</td>\n",
       "      <td>0</td>\n",
       "    </tr>\n",
       "    <tr>\n",
       "      <th>32</th>\n",
       "      <td>0</td>\n",
       "      <td>2</td>\n",
       "      <td>1</td>\n",
       "      <td>2</td>\n",
       "      <td>0</td>\n",
       "      <td>2.0</td>\n",
       "      <td>2</td>\n",
       "    </tr>\n",
       "    <tr>\n",
       "      <th>33</th>\n",
       "      <td>2</td>\n",
       "      <td>0</td>\n",
       "      <td>3</td>\n",
       "      <td>2</td>\n",
       "      <td>0</td>\n",
       "      <td>1.0</td>\n",
       "      <td>1</td>\n",
       "    </tr>\n",
       "    <tr>\n",
       "      <th>34</th>\n",
       "      <td>3</td>\n",
       "      <td>0</td>\n",
       "      <td>1</td>\n",
       "      <td>0</td>\n",
       "      <td>0</td>\n",
       "      <td>1.0</td>\n",
       "      <td>1</td>\n",
       "    </tr>\n",
       "    <tr>\n",
       "      <th>35</th>\n",
       "      <td>3</td>\n",
       "      <td>0</td>\n",
       "      <td>2</td>\n",
       "      <td>1</td>\n",
       "      <td>0</td>\n",
       "      <td>1.0</td>\n",
       "      <td>1</td>\n",
       "    </tr>\n",
       "    <tr>\n",
       "      <th>36</th>\n",
       "      <td>2</td>\n",
       "      <td>0</td>\n",
       "      <td>0</td>\n",
       "      <td>1</td>\n",
       "      <td>0</td>\n",
       "      <td>1.0</td>\n",
       "      <td>2</td>\n",
       "    </tr>\n",
       "    <tr>\n",
       "      <th>37</th>\n",
       "      <td>2</td>\n",
       "      <td>0</td>\n",
       "      <td>2</td>\n",
       "      <td>1</td>\n",
       "      <td>0</td>\n",
       "      <td>1.0</td>\n",
       "      <td>1</td>\n",
       "    </tr>\n",
       "    <tr>\n",
       "      <th>38</th>\n",
       "      <td>0</td>\n",
       "      <td>0</td>\n",
       "      <td>2</td>\n",
       "      <td>2</td>\n",
       "      <td>0</td>\n",
       "      <td>0.0</td>\n",
       "      <td>0</td>\n",
       "    </tr>\n",
       "    <tr>\n",
       "      <th>39</th>\n",
       "      <td>2</td>\n",
       "      <td>0</td>\n",
       "      <td>3</td>\n",
       "      <td>1</td>\n",
       "      <td>0</td>\n",
       "      <td>1.0</td>\n",
       "      <td>1</td>\n",
       "    </tr>\n",
       "    <tr>\n",
       "      <th>40</th>\n",
       "      <td>0</td>\n",
       "      <td>1</td>\n",
       "      <td>0</td>\n",
       "      <td>2</td>\n",
       "      <td>0</td>\n",
       "      <td>2.0</td>\n",
       "      <td>2</td>\n",
       "    </tr>\n",
       "    <tr>\n",
       "      <th>41</th>\n",
       "      <td>0</td>\n",
       "      <td>3</td>\n",
       "      <td>0</td>\n",
       "      <td>3</td>\n",
       "      <td>0</td>\n",
       "      <td>2.0</td>\n",
       "      <td>2</td>\n",
       "    </tr>\n",
       "    <tr>\n",
       "      <th>42</th>\n",
       "      <td>3</td>\n",
       "      <td>0</td>\n",
       "      <td>1</td>\n",
       "      <td>1</td>\n",
       "      <td>0</td>\n",
       "      <td>1.0</td>\n",
       "      <td>0</td>\n",
       "    </tr>\n",
       "    <tr>\n",
       "      <th>43</th>\n",
       "      <td>2</td>\n",
       "      <td>1</td>\n",
       "      <td>3</td>\n",
       "      <td>1</td>\n",
       "      <td>0</td>\n",
       "      <td>1.0</td>\n",
       "      <td>1</td>\n",
       "    </tr>\n",
       "    <tr>\n",
       "      <th>44</th>\n",
       "      <td>1</td>\n",
       "      <td>0</td>\n",
       "      <td>0</td>\n",
       "      <td>0</td>\n",
       "      <td>0</td>\n",
       "      <td>1.0</td>\n",
       "      <td>0</td>\n",
       "    </tr>\n",
       "    <tr>\n",
       "      <th>45</th>\n",
       "      <td>1</td>\n",
       "      <td>5</td>\n",
       "      <td>0</td>\n",
       "      <td>2</td>\n",
       "      <td>0</td>\n",
       "      <td>2.0</td>\n",
       "      <td>2</td>\n",
       "    </tr>\n",
       "    <tr>\n",
       "      <th>46</th>\n",
       "      <td>2</td>\n",
       "      <td>0</td>\n",
       "      <td>2</td>\n",
       "      <td>1</td>\n",
       "      <td>0</td>\n",
       "      <td>1.0</td>\n",
       "      <td>1</td>\n",
       "    </tr>\n",
       "    <tr>\n",
       "      <th>47</th>\n",
       "      <td>1</td>\n",
       "      <td>0</td>\n",
       "      <td>1</td>\n",
       "      <td>2</td>\n",
       "      <td>0</td>\n",
       "      <td>1.0</td>\n",
       "      <td>2</td>\n",
       "    </tr>\n",
       "    <tr>\n",
       "      <th>48</th>\n",
       "      <td>2</td>\n",
       "      <td>0</td>\n",
       "      <td>1</td>\n",
       "      <td>3</td>\n",
       "      <td>0</td>\n",
       "      <td>1.0</td>\n",
       "      <td>2</td>\n",
       "    </tr>\n",
       "    <tr>\n",
       "      <th>49</th>\n",
       "      <td>1</td>\n",
       "      <td>0</td>\n",
       "      <td>0</td>\n",
       "      <td>0</td>\n",
       "      <td>0</td>\n",
       "      <td>1.0</td>\n",
       "      <td>0</td>\n",
       "    </tr>\n",
       "    <tr>\n",
       "      <th>50</th>\n",
       "      <td>1</td>\n",
       "      <td>1</td>\n",
       "      <td>2</td>\n",
       "      <td>2</td>\n",
       "      <td>0</td>\n",
       "      <td>0.0</td>\n",
       "      <td>0</td>\n",
       "    </tr>\n",
       "    <tr>\n",
       "      <th>51</th>\n",
       "      <td>2</td>\n",
       "      <td>0</td>\n",
       "      <td>2</td>\n",
       "      <td>2</td>\n",
       "      <td>0</td>\n",
       "      <td>1.0</td>\n",
       "      <td>0</td>\n",
       "    </tr>\n",
       "    <tr>\n",
       "      <th>52</th>\n",
       "      <td>0</td>\n",
       "      <td>1</td>\n",
       "      <td>3</td>\n",
       "      <td>2</td>\n",
       "      <td>0</td>\n",
       "      <td>2.0</td>\n",
       "      <td>1</td>\n",
       "    </tr>\n",
       "    <tr>\n",
       "      <th>53</th>\n",
       "      <td>1</td>\n",
       "      <td>1</td>\n",
       "      <td>1</td>\n",
       "      <td>1</td>\n",
       "      <td>0</td>\n",
       "      <td>0.0</td>\n",
       "      <td>0</td>\n",
       "    </tr>\n",
       "    <tr>\n",
       "      <th>54</th>\n",
       "      <td>0</td>\n",
       "      <td>1</td>\n",
       "      <td>2</td>\n",
       "      <td>0</td>\n",
       "      <td>0</td>\n",
       "      <td>2.0</td>\n",
       "      <td>1</td>\n",
       "    </tr>\n",
       "    <tr>\n",
       "      <th>55</th>\n",
       "      <td>2</td>\n",
       "      <td>0</td>\n",
       "      <td>1</td>\n",
       "      <td>1</td>\n",
       "      <td>0</td>\n",
       "      <td>1.0</td>\n",
       "      <td>0</td>\n",
       "    </tr>\n",
       "    <tr>\n",
       "      <th>56</th>\n",
       "      <td>1</td>\n",
       "      <td>0</td>\n",
       "      <td>0</td>\n",
       "      <td>2</td>\n",
       "      <td>0</td>\n",
       "      <td>1.0</td>\n",
       "      <td>2</td>\n",
       "    </tr>\n",
       "    <tr>\n",
       "      <th>57</th>\n",
       "      <td>1</td>\n",
       "      <td>1</td>\n",
       "      <td>1</td>\n",
       "      <td>1</td>\n",
       "      <td>0</td>\n",
       "      <td>0.0</td>\n",
       "      <td>0</td>\n",
       "    </tr>\n",
       "    <tr>\n",
       "      <th>58</th>\n",
       "      <td>1</td>\n",
       "      <td>1</td>\n",
       "      <td>1</td>\n",
       "      <td>2</td>\n",
       "      <td>0</td>\n",
       "      <td>0.0</td>\n",
       "      <td>2</td>\n",
       "    </tr>\n",
       "    <tr>\n",
       "      <th>59</th>\n",
       "      <td>1</td>\n",
       "      <td>0</td>\n",
       "      <td>0</td>\n",
       "      <td>0</td>\n",
       "      <td>0</td>\n",
       "      <td>1.0</td>\n",
       "      <td>0</td>\n",
       "    </tr>\n",
       "  </tbody>\n",
       "</table>\n",
       "</div>"
      ],
      "text/plain": [
       "    home_goals_pred  away_goals_pred  home_goals_test  away_goals_test  \\\n",
       "0                 0                0                2                0   \n",
       "1                 3                0                0                1   \n",
       "2                 2                1                2                1   \n",
       "3                 3                1                2                1   \n",
       "4                 2                1                2                0   \n",
       "5                 2                0                1                1   \n",
       "6                 2                0                3                0   \n",
       "7                 0                0                1                4   \n",
       "8                 1                5                0                1   \n",
       "9                 0                1                0                0   \n",
       "10                2                2                0                1   \n",
       "11                0                0                2                0   \n",
       "12                1                0                2                1   \n",
       "13                2                0                0                2   \n",
       "14                2                2                4                1   \n",
       "15                1                1                1                3   \n",
       "16                0                0                0                2   \n",
       "17                1                1                1                2   \n",
       "18                0                0                3                1   \n",
       "19                1                0                7                0   \n",
       "20                2                1                2                0   \n",
       "21                0                2                0                1   \n",
       "22                1                0                1                0   \n",
       "23                0                3                2                2   \n",
       "24                0                0                0                3   \n",
       "25                2                0                3                1   \n",
       "26                4                0                1                1   \n",
       "27                1                0                2                1   \n",
       "28                1                0                0                2   \n",
       "29                2                1                0                3   \n",
       "30                0                3                1                1   \n",
       "31                0                1                1                1   \n",
       "32                0                2                1                2   \n",
       "33                2                0                3                2   \n",
       "34                3                0                1                0   \n",
       "35                3                0                2                1   \n",
       "36                2                0                0                1   \n",
       "37                2                0                2                1   \n",
       "38                0                0                2                2   \n",
       "39                2                0                3                1   \n",
       "40                0                1                0                2   \n",
       "41                0                3                0                3   \n",
       "42                3                0                1                1   \n",
       "43                2                1                3                1   \n",
       "44                1                0                0                0   \n",
       "45                1                5                0                2   \n",
       "46                2                0                2                1   \n",
       "47                1                0                1                2   \n",
       "48                2                0                1                3   \n",
       "49                1                0                0                0   \n",
       "50                1                1                2                2   \n",
       "51                2                0                2                2   \n",
       "52                0                1                3                2   \n",
       "53                1                1                1                1   \n",
       "54                0                1                2                0   \n",
       "55                2                0                1                1   \n",
       "56                1                0                0                2   \n",
       "57                1                1                1                1   \n",
       "58                1                1                1                2   \n",
       "59                1                0                0                0   \n",
       "\n",
       "    result_pred  result  result_test  \n",
       "0             0     0.0            1  \n",
       "1             0     1.0            2  \n",
       "2             0     1.0            1  \n",
       "3             0     1.0            1  \n",
       "4             0     1.0            1  \n",
       "5             0     1.0            0  \n",
       "6             0     1.0            1  \n",
       "7             0     0.0            2  \n",
       "8             0     2.0            2  \n",
       "9             0     2.0            0  \n",
       "10            0     0.0            2  \n",
       "11            0     0.0            1  \n",
       "12            0     1.0            1  \n",
       "13            0     1.0            2  \n",
       "14            0     0.0            1  \n",
       "15            0     0.0            2  \n",
       "16            0     0.0            2  \n",
       "17            0     0.0            2  \n",
       "18            0     0.0            1  \n",
       "19            0     1.0            1  \n",
       "20            0     1.0            1  \n",
       "21            0     2.0            2  \n",
       "22            0     1.0            1  \n",
       "23            0     2.0            0  \n",
       "24            0     0.0            2  \n",
       "25            0     1.0            1  \n",
       "26            0     1.0            0  \n",
       "27            0     1.0            1  \n",
       "28            0     1.0            2  \n",
       "29            0     1.0            2  \n",
       "30            0     2.0            0  \n",
       "31            0     2.0            0  \n",
       "32            0     2.0            2  \n",
       "33            0     1.0            1  \n",
       "34            0     1.0            1  \n",
       "35            0     1.0            1  \n",
       "36            0     1.0            2  \n",
       "37            0     1.0            1  \n",
       "38            0     0.0            0  \n",
       "39            0     1.0            1  \n",
       "40            0     2.0            2  \n",
       "41            0     2.0            2  \n",
       "42            0     1.0            0  \n",
       "43            0     1.0            1  \n",
       "44            0     1.0            0  \n",
       "45            0     2.0            2  \n",
       "46            0     1.0            1  \n",
       "47            0     1.0            2  \n",
       "48            0     1.0            2  \n",
       "49            0     1.0            0  \n",
       "50            0     0.0            0  \n",
       "51            0     1.0            0  \n",
       "52            0     2.0            1  \n",
       "53            0     0.0            0  \n",
       "54            0     2.0            1  \n",
       "55            0     1.0            0  \n",
       "56            0     1.0            2  \n",
       "57            0     0.0            0  \n",
       "58            0     0.0            2  \n",
       "59            0     1.0            0  "
      ]
     },
     "execution_count": 645,
     "metadata": {},
     "output_type": "execute_result"
    }
   ],
   "source": [
    "df_pred_random_forest"
   ]
  },
  {
   "cell_type": "code",
   "execution_count": 646,
   "id": "75738211",
   "metadata": {
    "ExecuteTime": {
     "end_time": "2022-11-16T07:08:20.054270Z",
     "start_time": "2022-11-16T07:08:19.742216Z"
    }
   },
   "outputs": [
    {
     "data": {
      "text/plain": [
       "<AxesSubplot:xlabel='previsao', ylabel='real'>"
      ]
     },
     "execution_count": 646,
     "metadata": {},
     "output_type": "execute_result"
    },
    {
     "data": {
      "image/png": "[encoded data removed]",
      "text/plain": [
       "<Figure size 432x288 with 2 Axes>"
      ]
     },
     "metadata": {
      "needs_background": "light"
     },
     "output_type": "display_data"
    }
   ],
   "source": [
    "cf_matrix=pd.crosstab(df_pred_random_forest['result_test'], df_pred_random_forest['result'], rownames=['real'], colnames=['previsao'])\n",
    "\n",
    "sns.heatmap(cf_matrix, annot=True, cmap='Blues')"
   ]
  },
  {
   "cell_type": "code",
   "execution_count": null,
   "id": "db12b8ad",
   "metadata": {},
   "outputs": [],
   "source": []
  },
  {
   "cell_type": "code",
   "execution_count": 86,
   "id": "d8f3d190",
   "metadata": {
    "ExecuteTime": {
     "end_time": "2022-11-16T01:44:46.560897Z",
     "start_time": "2022-11-16T01:44:46.447014Z"
    },
    "collapsed": true
   },
   "outputs": [
    {
     "ename": "ValueError",
     "evalue": "Shape of passed values is (1, 2), indices imply (81, 2)",
     "output_type": "error",
     "traceback": [
      "\u001b[1;31m---------------------------------------------------------------------------\u001b[0m",
      "\u001b[1;31mValueError\u001b[0m                                Traceback (most recent call last)",
      "File \u001b[1;32m~\\anaconda3\\lib\\site-packages\\pandas\\core\\internals\\managers.py:1702\u001b[0m, in \u001b[0;36mcreate_block_manager_from_arrays\u001b[1;34m(arrays, names, axes)\u001b[0m\n\u001b[0;32m   1701\u001b[0m blocks \u001b[38;5;241m=\u001b[39m _form_blocks(arrays, names, axes)\n\u001b[1;32m-> 1702\u001b[0m mgr \u001b[38;5;241m=\u001b[39m \u001b[43mBlockManager\u001b[49m\u001b[43m(\u001b[49m\u001b[43mblocks\u001b[49m\u001b[43m,\u001b[49m\u001b[43m \u001b[49m\u001b[43maxes\u001b[49m\u001b[43m)\u001b[49m\n\u001b[0;32m   1703\u001b[0m mgr\u001b[38;5;241m.\u001b[39m_consolidate_inplace()\n",
      "File \u001b[1;32m~\\anaconda3\\lib\\site-packages\\pandas\\core\\internals\\managers.py:143\u001b[0m, in \u001b[0;36mBlockManager.__init__\u001b[1;34m(self, blocks, axes, do_integrity_check)\u001b[0m\n\u001b[0;32m    142\u001b[0m \u001b[38;5;28;01mif\u001b[39;00m do_integrity_check:\n\u001b[1;32m--> 143\u001b[0m     \u001b[38;5;28;43mself\u001b[39;49m\u001b[38;5;241;43m.\u001b[39;49m\u001b[43m_verify_integrity\u001b[49m\u001b[43m(\u001b[49m\u001b[43m)\u001b[49m\n\u001b[0;32m    145\u001b[0m \u001b[38;5;66;03m# Populate known_consolidate, blknos, and blklocs lazily\u001b[39;00m\n",
      "File \u001b[1;32m~\\anaconda3\\lib\\site-packages\\pandas\\core\\internals\\managers.py:323\u001b[0m, in \u001b[0;36mBlockManager._verify_integrity\u001b[1;34m(self)\u001b[0m\n\u001b[0;32m    322\u001b[0m     \u001b[38;5;28;01mif\u001b[39;00m block\u001b[38;5;241m.\u001b[39mshape[\u001b[38;5;241m1\u001b[39m:] \u001b[38;5;241m!=\u001b[39m mgr_shape[\u001b[38;5;241m1\u001b[39m:]:\n\u001b[1;32m--> 323\u001b[0m         \u001b[38;5;28;01mraise\u001b[39;00m construction_error(tot_items, block\u001b[38;5;241m.\u001b[39mshape[\u001b[38;5;241m1\u001b[39m:], \u001b[38;5;28mself\u001b[39m\u001b[38;5;241m.\u001b[39maxes)\n\u001b[0;32m    324\u001b[0m \u001b[38;5;28;01mif\u001b[39;00m \u001b[38;5;28mlen\u001b[39m(\u001b[38;5;28mself\u001b[39m\u001b[38;5;241m.\u001b[39mitems) \u001b[38;5;241m!=\u001b[39m tot_items:\n",
      "\u001b[1;31mValueError\u001b[0m: Shape of passed values is (1, 2), indices imply (81, 2)",
      "\nDuring handling of the above exception, another exception occurred:\n",
      "\u001b[1;31mValueError\u001b[0m                                Traceback (most recent call last)",
      "Input \u001b[1;32mIn [86]\u001b[0m, in \u001b[0;36m<cell line: 1>\u001b[1;34m()\u001b[0m\n\u001b[1;32m----> 1\u001b[0m df_test \u001b[38;5;241m=\u001b[39m \u001b[43mpd\u001b[49m\u001b[38;5;241;43m.\u001b[39;49m\u001b[43mDataFrame\u001b[49m\u001b[43m(\u001b[49m\u001b[43m{\u001b[49m\u001b[38;5;124;43m'\u001b[39;49m\u001b[38;5;124;43mreal\u001b[39;49m\u001b[38;5;124;43m'\u001b[39;49m\u001b[43m:\u001b[49m\u001b[43m \u001b[49m\u001b[43my_test\u001b[49m\u001b[43m,\u001b[49m\u001b[43m \u001b[49m\u001b[38;5;124;43m'\u001b[39;49m\u001b[38;5;124;43mprevisao\u001b[39;49m\u001b[38;5;124;43m'\u001b[39;49m\u001b[43m:\u001b[49m\u001b[43m \u001b[49m\u001b[43mpred\u001b[49m\u001b[43m}\u001b[49m\u001b[43m)\u001b[49m\n",
      "File \u001b[1;32m~\\anaconda3\\lib\\site-packages\\pandas\\core\\frame.py:529\u001b[0m, in \u001b[0;36mDataFrame.__init__\u001b[1;34m(self, data, index, columns, dtype, copy)\u001b[0m\n\u001b[0;32m    524\u001b[0m     mgr \u001b[38;5;241m=\u001b[39m \u001b[38;5;28mself\u001b[39m\u001b[38;5;241m.\u001b[39m_init_mgr(\n\u001b[0;32m    525\u001b[0m         data, axes\u001b[38;5;241m=\u001b[39m{\u001b[38;5;124m\"\u001b[39m\u001b[38;5;124mindex\u001b[39m\u001b[38;5;124m\"\u001b[39m: index, \u001b[38;5;124m\"\u001b[39m\u001b[38;5;124mcolumns\u001b[39m\u001b[38;5;124m\"\u001b[39m: columns}, dtype\u001b[38;5;241m=\u001b[39mdtype, copy\u001b[38;5;241m=\u001b[39mcopy\n\u001b[0;32m    526\u001b[0m     )\n\u001b[0;32m    528\u001b[0m \u001b[38;5;28;01melif\u001b[39;00m \u001b[38;5;28misinstance\u001b[39m(data, \u001b[38;5;28mdict\u001b[39m):\n\u001b[1;32m--> 529\u001b[0m     mgr \u001b[38;5;241m=\u001b[39m \u001b[43minit_dict\u001b[49m\u001b[43m(\u001b[49m\u001b[43mdata\u001b[49m\u001b[43m,\u001b[49m\u001b[43m \u001b[49m\u001b[43mindex\u001b[49m\u001b[43m,\u001b[49m\u001b[43m \u001b[49m\u001b[43mcolumns\u001b[49m\u001b[43m,\u001b[49m\u001b[43m \u001b[49m\u001b[43mdtype\u001b[49m\u001b[38;5;241;43m=\u001b[39;49m\u001b[43mdtype\u001b[49m\u001b[43m)\u001b[49m\n\u001b[0;32m    530\u001b[0m \u001b[38;5;28;01melif\u001b[39;00m \u001b[38;5;28misinstance\u001b[39m(data, ma\u001b[38;5;241m.\u001b[39mMaskedArray):\n\u001b[0;32m    531\u001b[0m     \u001b[38;5;28;01mimport\u001b[39;00m \u001b[38;5;21;01mnumpy\u001b[39;00m\u001b[38;5;21;01m.\u001b[39;00m\u001b[38;5;21;01mma\u001b[39;00m\u001b[38;5;21;01m.\u001b[39;00m\u001b[38;5;21;01mmrecords\u001b[39;00m \u001b[38;5;28;01mas\u001b[39;00m \u001b[38;5;21;01mmrecords\u001b[39;00m\n",
      "File \u001b[1;32m~\\anaconda3\\lib\\site-packages\\pandas\\core\\internals\\construction.py:287\u001b[0m, in \u001b[0;36minit_dict\u001b[1;34m(data, index, columns, dtype)\u001b[0m\n\u001b[0;32m    281\u001b[0m     arrays \u001b[38;5;241m=\u001b[39m [\n\u001b[0;32m    282\u001b[0m         arr \u001b[38;5;28;01mif\u001b[39;00m \u001b[38;5;129;01mnot\u001b[39;00m \u001b[38;5;28misinstance\u001b[39m(arr, ABCIndexClass) \u001b[38;5;28;01melse\u001b[39;00m arr\u001b[38;5;241m.\u001b[39m_data \u001b[38;5;28;01mfor\u001b[39;00m arr \u001b[38;5;129;01min\u001b[39;00m arrays\n\u001b[0;32m    283\u001b[0m     ]\n\u001b[0;32m    284\u001b[0m     arrays \u001b[38;5;241m=\u001b[39m [\n\u001b[0;32m    285\u001b[0m         arr \u001b[38;5;28;01mif\u001b[39;00m \u001b[38;5;129;01mnot\u001b[39;00m is_datetime64tz_dtype(arr) \u001b[38;5;28;01melse\u001b[39;00m arr\u001b[38;5;241m.\u001b[39mcopy() \u001b[38;5;28;01mfor\u001b[39;00m arr \u001b[38;5;129;01min\u001b[39;00m arrays\n\u001b[0;32m    286\u001b[0m     ]\n\u001b[1;32m--> 287\u001b[0m \u001b[38;5;28;01mreturn\u001b[39;00m \u001b[43marrays_to_mgr\u001b[49m\u001b[43m(\u001b[49m\u001b[43marrays\u001b[49m\u001b[43m,\u001b[49m\u001b[43m \u001b[49m\u001b[43mdata_names\u001b[49m\u001b[43m,\u001b[49m\u001b[43m \u001b[49m\u001b[43mindex\u001b[49m\u001b[43m,\u001b[49m\u001b[43m \u001b[49m\u001b[43mcolumns\u001b[49m\u001b[43m,\u001b[49m\u001b[43m \u001b[49m\u001b[43mdtype\u001b[49m\u001b[38;5;241;43m=\u001b[39;49m\u001b[43mdtype\u001b[49m\u001b[43m)\u001b[49m\n",
      "File \u001b[1;32m~\\anaconda3\\lib\\site-packages\\pandas\\core\\internals\\construction.py:95\u001b[0m, in \u001b[0;36marrays_to_mgr\u001b[1;34m(arrays, arr_names, index, columns, dtype, verify_integrity)\u001b[0m\n\u001b[0;32m     92\u001b[0m \u001b[38;5;66;03m# from BlockManager perspective\u001b[39;00m\n\u001b[0;32m     93\u001b[0m axes \u001b[38;5;241m=\u001b[39m [columns, index]\n\u001b[1;32m---> 95\u001b[0m \u001b[38;5;28;01mreturn\u001b[39;00m \u001b[43mcreate_block_manager_from_arrays\u001b[49m\u001b[43m(\u001b[49m\u001b[43marrays\u001b[49m\u001b[43m,\u001b[49m\u001b[43m \u001b[49m\u001b[43marr_names\u001b[49m\u001b[43m,\u001b[49m\u001b[43m \u001b[49m\u001b[43maxes\u001b[49m\u001b[43m)\u001b[49m\n",
      "File \u001b[1;32m~\\anaconda3\\lib\\site-packages\\pandas\\core\\internals\\managers.py:1706\u001b[0m, in \u001b[0;36mcreate_block_manager_from_arrays\u001b[1;34m(arrays, names, axes)\u001b[0m\n\u001b[0;32m   1704\u001b[0m     \u001b[38;5;28;01mreturn\u001b[39;00m mgr\n\u001b[0;32m   1705\u001b[0m \u001b[38;5;28;01mexcept\u001b[39;00m \u001b[38;5;167;01mValueError\u001b[39;00m \u001b[38;5;28;01mas\u001b[39;00m e:\n\u001b[1;32m-> 1706\u001b[0m     \u001b[38;5;28;01mraise\u001b[39;00m construction_error(\u001b[38;5;28mlen\u001b[39m(arrays), arrays[\u001b[38;5;241m0\u001b[39m]\u001b[38;5;241m.\u001b[39mshape, axes, e)\n",
      "\u001b[1;31mValueError\u001b[0m: Shape of passed values is (1, 2), indices imply (81, 2)"
     ]
    }
   ],
   "source": [
    "df_test = pd.DataFrame({'real': y_test, 'previsao': pred})"
   ]
  },
  {
   "cell_type": "code",
   "execution_count": null,
   "id": "ea57ca1a",
   "metadata": {},
   "outputs": [],
   "source": [
    "clf.predict"
   ]
  },
  {
   "cell_type": "markdown",
   "id": "553960f8",
   "metadata": {},
   "source": [
    "## 2.9 Naive Bayes"
   ]
  },
  {
   "cell_type": "markdown",
   "id": "1397a3d3",
   "metadata": {},
   "source": [
    "## 2.10 Tensor Flow Model"
   ]
  },
  {
   "cell_type": "code",
   "execution_count": 734,
   "id": "50187a16",
   "metadata": {
    "ExecuteTime": {
     "end_time": "2022-11-16T08:54:18.504700Z",
     "start_time": "2022-11-16T08:54:18.488161Z"
    }
   },
   "outputs": [],
   "source": [
    "scaler = StandardScaler()\n",
    "X = scaler.fit_transform(X)"
   ]
  },
  {
   "cell_type": "code",
   "execution_count": 735,
   "id": "048191dc",
   "metadata": {
    "ExecuteTime": {
     "end_time": "2022-11-16T08:54:49.157563Z",
     "start_time": "2022-11-16T08:54:49.147547Z"
    }
   },
   "outputs": [],
   "source": [
    "X_train, X_test, y_train, y_test = train_test_split(X, y, random_state=42, train_size=0.75)"
   ]
  },
  {
   "cell_type": "code",
   "execution_count": 1787,
   "id": "7e68bcbb",
   "metadata": {
    "ExecuteTime": {
     "end_time": "2022-11-17T06:27:42.335732Z",
     "start_time": "2022-11-17T06:27:40.288259Z"
    }
   },
   "outputs": [],
   "source": [
    "inputs = tf.keras.Input(shape=(144,))\n",
    "x = tf.keras.layers.Dense(64, activation='relu')(inputs)\n",
    "x = tf.keras.layers.Dense(64, activation='relu')(x)\n",
    "outputs = tf.keras.layers.Dense(1, activation='sigmoid')(x)\n",
    "\n",
    "model = tf.keras.Model(inputs, outputs)\n",
    "\n",
    "model.compile(\n",
    "    optimizer='adam',\n",
    "    loss='sparse_categorical_crossentropy',\n",
    "    metrics=['accuracy']\n",
    ")"
   ]
  },
  {
   "cell_type": "code",
   "execution_count": null,
   "id": "8588b447",
   "metadata": {},
   "outputs": [],
   "source": []
  },
  {
   "cell_type": "code",
   "execution_count": null,
   "id": "9f682d40",
   "metadata": {},
   "outputs": [],
   "source": []
  },
  {
   "cell_type": "code",
   "execution_count": null,
   "id": "f48006ea",
   "metadata": {},
   "outputs": [],
   "source": []
  },
  {
   "cell_type": "code",
   "execution_count": null,
   "id": "1735548a",
   "metadata": {},
   "outputs": [],
   "source": []
  },
  {
   "cell_type": "code",
   "execution_count": null,
   "id": "0ca0c8d6",
   "metadata": {},
   "outputs": [],
   "source": [
    "with open('logistic_regression_model', 'wb') as f:\n",
    "    pickle.dump(clf_LR, f)"
   ]
  },
  {
   "cell_type": "code",
   "execution_count": null,
   "id": "e366fd76",
   "metadata": {},
   "outputs": [],
   "source": [
    "with open('logistic_regression_model', 'rb') as f:\n",
    "    model_load = pickle.load(f)"
   ]
  },
  {
   "cell_type": "code",
   "execution_count": null,
   "id": "f396d971",
   "metadata": {},
   "outputs": [],
   "source": [
    "model_load"
   ]
  }
 ],
 "metadata": {
  "kernelspec": {
   "display_name": "Python 3",
   "language": "python",
   "name": "python3"
  },
  "language_info": {
   "codemirror_mode": {
    "name": "ipython",
    "version": 3
   },
   "file_extension": ".py",
   "mimetype": "text/x-python",
   "name": "python",
   "nbconvert_exporter": "python",
   "pygments_lexer": "ipython3",
   "version": "3.8.8"
  }
 },
 "nbformat": 4,
 "nbformat_minor": 5
}
