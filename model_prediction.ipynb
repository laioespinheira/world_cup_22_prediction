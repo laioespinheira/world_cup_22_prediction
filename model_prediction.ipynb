{
 "cells": [
  {
   "cell_type": "markdown",
   "id": "14ce5bce",
   "metadata": {},
   "source": [
    "# 0.0 Imports"
   ]
  },
  {
   "cell_type": "code",
   "execution_count": 2,
   "id": "5aabba1b",
   "metadata": {
    "ExecuteTime": {
     "end_time": "2022-11-17T06:33:22.970927Z",
     "start_time": "2022-11-17T06:33:10.690578Z"
    }
   },
   "outputs": [],
   "source": [
    "import pandas as pd\n",
    "import numpy as np\n",
    "from sklearn.preprocessing import StandardScaler, MinMaxScaler, scale\n",
    "from sklearn.model_selection import train_test_split\n",
    "from sklearn.linear_model import LogisticRegression\n",
    "from sklearn.multioutput import MultiOutputClassifier\n",
    "from sklearn.neighbors import KNeighborsClassifier\n",
    "from sklearn import linear_model\n",
    "from sklearn.tree import DecisionTreeClassifier\n",
    "from sklearn.ensemble import RandomForestClassifier\n",
    "from sklearn.naive_bayes import GaussianNB\n",
    "from sklearn.svm import SVC\n",
    "from sklearn.metrics import accuracy_score,f1_score,precision_score,recall_score,confusion_matrix,plot_confusion_matrix\n",
    "from sklearn.model_selection import GridSearchCV\n",
    "from IPython.display import display\n",
    "from sklearn.model_selection import cross_validate, KFold\n",
    "import matplotlib.pyplot as plt\n",
    "import matplotlib.pyplot as pltimport \n",
    "import tensorflow as tf\n",
    "from sklearn.naive_bayes import MultinomialNB\n",
    "import seaborn as sns\n",
    "import pickle\n",
    "import csv\n",
    "%matplotlib inline"
   ]
  },
  {
   "cell_type": "code",
   "execution_count": 3,
   "id": "cc53235c",
   "metadata": {
    "ExecuteTime": {
     "end_time": "2022-11-17T06:33:24.980264Z",
     "start_time": "2022-11-17T06:33:24.958139Z"
    }
   },
   "outputs": [],
   "source": [
    "def confusion_matrix_data(pred, y_test):\n",
    "\n",
    "    home_goals_pred = []\n",
    "    away_goals_pred = []\n",
    "    home_goals_test = []\n",
    "    away_goals_test = []\n",
    "\n",
    "    for i in range(len(pred)):\n",
    "        home_goals_pred.append(pred[i][0])\n",
    "        away_goals_pred.append(pred[i][-1])\n",
    "\n",
    "    for i in range(len(y_test)):\n",
    "        home_goals_test.append(y_test[i][0])\n",
    "        away_goals_test.append(y_test[i][-1])    \n",
    "\n",
    "    columns=['home_goals_pred', 'away_goals_pred', 'home_goals_test', 'away_goals_test']\n",
    "\n",
    "    df_pred = pd.DataFrame(list(zip(home_goals_pred, away_goals_pred, home_goals_test, away_goals_test)), columns=columns)\n",
    "\n",
    "    df_pred['result_pred'] = 0\n",
    "    df_pred.loc[df_pred['home_goals_pred'] == df_pred['away_goals_pred'], 'result'] = 0\n",
    "    df_pred.loc[df_pred['home_goals_pred'] > df_pred['away_goals_pred'], 'result'] = 1\n",
    "    df_pred.loc[df_pred['home_goals_pred'] < df_pred['away_goals_pred'], 'result'] = 2\n",
    "\n",
    "    df_pred['result_test'] = 0\n",
    "    df_pred.loc[df_pred['home_goals_test'] == df_pred['away_goals_test'], 'result_test'] = 0\n",
    "    df_pred.loc[df_pred['home_goals_test'] > df_pred['away_goals_test'], 'result_test'] = 1\n",
    "    df_pred.loc[df_pred['home_goals_test'] < df_pred['away_goals_test'], 'result_test'] = 2\n",
    "\n",
    "    return df_pred"
   ]
  },
  {
   "cell_type": "markdown",
   "id": "536b5399",
   "metadata": {},
   "source": [
    "# 1.0 Data Wrangling"
   ]
  },
  {
   "cell_type": "markdown",
   "id": "179cad98",
   "metadata": {},
   "source": [
    "## 1.1 Read CSV"
   ]
  },
  {
   "cell_type": "code",
   "execution_count": 4,
   "id": "fbeff674",
   "metadata": {
    "ExecuteTime": {
     "end_time": "2022-11-17T06:33:28.183511Z",
     "start_time": "2022-11-17T06:33:28.163427Z"
    }
   },
   "outputs": [],
   "source": [
    "df_ratings = pd.read_csv('all_ratings_world_cup.csv').drop(['Unnamed: 0'], axis=1)\n",
    "df_games = pd.read_csv('all_games_world_cup.csv').drop(['Unnamed: 0'], axis=1)"
   ]
  },
  {
   "cell_type": "code",
   "execution_count": 5,
   "id": "65807dff",
   "metadata": {
    "ExecuteTime": {
     "end_time": "2022-11-17T06:33:29.026711Z",
     "start_time": "2022-11-17T06:33:29.002009Z"
    }
   },
   "outputs": [
    {
     "data": {
      "text/html": [
       "<div>\n",
       "<style scoped>\n",
       "    .dataframe tbody tr th:only-of-type {\n",
       "        vertical-align: middle;\n",
       "    }\n",
       "\n",
       "    .dataframe tbody tr th {\n",
       "        vertical-align: top;\n",
       "    }\n",
       "\n",
       "    .dataframe thead th {\n",
       "        text-align: right;\n",
       "    }\n",
       "</style>\n",
       "<table border=\"1\" class=\"dataframe\">\n",
       "  <thead>\n",
       "    <tr style=\"text-align: right;\">\n",
       "      <th></th>\n",
       "      <th>home_teams</th>\n",
       "      <th>away_teams</th>\n",
       "      <th>home_goals</th>\n",
       "      <th>away_goals</th>\n",
       "      <th>year</th>\n",
       "    </tr>\n",
       "  </thead>\n",
       "  <tbody>\n",
       "    <tr>\n",
       "      <th>0</th>\n",
       "      <td>russia</td>\n",
       "      <td>saudi arabia</td>\n",
       "      <td>5</td>\n",
       "      <td>0</td>\n",
       "      <td>2018</td>\n",
       "    </tr>\n",
       "    <tr>\n",
       "      <th>1</th>\n",
       "      <td>egypt</td>\n",
       "      <td>uruguay</td>\n",
       "      <td>0</td>\n",
       "      <td>1</td>\n",
       "      <td>2018</td>\n",
       "    </tr>\n",
       "    <tr>\n",
       "      <th>2</th>\n",
       "      <td>morocco</td>\n",
       "      <td>ir iran</td>\n",
       "      <td>0</td>\n",
       "      <td>1</td>\n",
       "      <td>2018</td>\n",
       "    </tr>\n",
       "    <tr>\n",
       "      <th>3</th>\n",
       "      <td>portugal</td>\n",
       "      <td>spain</td>\n",
       "      <td>3</td>\n",
       "      <td>3</td>\n",
       "      <td>2018</td>\n",
       "    </tr>\n",
       "    <tr>\n",
       "      <th>4</th>\n",
       "      <td>france</td>\n",
       "      <td>australia</td>\n",
       "      <td>2</td>\n",
       "      <td>1</td>\n",
       "      <td>2018</td>\n",
       "    </tr>\n",
       "  </tbody>\n",
       "</table>\n",
       "</div>"
      ],
      "text/plain": [
       "  home_teams    away_teams  home_goals  away_goals  year\n",
       "0     russia  saudi arabia           5           0  2018\n",
       "1      egypt       uruguay           0           1  2018\n",
       "2    morocco       ir iran           0           1  2018\n",
       "3   portugal         spain           3           3  2018\n",
       "4     france     australia           2           1  2018"
      ]
     },
     "execution_count": 5,
     "metadata": {},
     "output_type": "execute_result"
    }
   ],
   "source": [
    "df_games.head()"
   ]
  },
  {
   "cell_type": "code",
   "execution_count": 6,
   "id": "04f35319",
   "metadata": {
    "ExecuteTime": {
     "end_time": "2022-11-17T06:33:30.348849Z",
     "start_time": "2022-11-17T06:33:30.325817Z"
    },
    "scrolled": true
   },
   "outputs": [
    {
     "data": {
      "text/html": [
       "<div>\n",
       "<style scoped>\n",
       "    .dataframe tbody tr th:only-of-type {\n",
       "        vertical-align: middle;\n",
       "    }\n",
       "\n",
       "    .dataframe tbody tr th {\n",
       "        vertical-align: top;\n",
       "    }\n",
       "\n",
       "    .dataframe thead th {\n",
       "        text-align: right;\n",
       "    }\n",
       "</style>\n",
       "<table border=\"1\" class=\"dataframe\">\n",
       "  <thead>\n",
       "    <tr style=\"text-align: right;\">\n",
       "      <th></th>\n",
       "      <th>rank</th>\n",
       "      <th>team</th>\n",
       "      <th>rating</th>\n",
       "      <th>year</th>\n",
       "    </tr>\n",
       "  </thead>\n",
       "  <tbody>\n",
       "    <tr>\n",
       "      <th>0</th>\n",
       "      <td>1</td>\n",
       "      <td>germany</td>\n",
       "      <td>1558</td>\n",
       "      <td>2018</td>\n",
       "    </tr>\n",
       "    <tr>\n",
       "      <th>1</th>\n",
       "      <td>2</td>\n",
       "      <td>brazil</td>\n",
       "      <td>1431</td>\n",
       "      <td>2018</td>\n",
       "    </tr>\n",
       "    <tr>\n",
       "      <th>2</th>\n",
       "      <td>3</td>\n",
       "      <td>belgium</td>\n",
       "      <td>1298</td>\n",
       "      <td>2018</td>\n",
       "    </tr>\n",
       "    <tr>\n",
       "      <th>3</th>\n",
       "      <td>4</td>\n",
       "      <td>portugal</td>\n",
       "      <td>1274</td>\n",
       "      <td>2018</td>\n",
       "    </tr>\n",
       "    <tr>\n",
       "      <th>4</th>\n",
       "      <td>5</td>\n",
       "      <td>argentina</td>\n",
       "      <td>1241</td>\n",
       "      <td>2018</td>\n",
       "    </tr>\n",
       "  </tbody>\n",
       "</table>\n",
       "</div>"
      ],
      "text/plain": [
       "   rank       team  rating  year\n",
       "0     1    germany    1558  2018\n",
       "1     2     brazil    1431  2018\n",
       "2     3    belgium    1298  2018\n",
       "3     4   portugal    1274  2018\n",
       "4     5  argentina    1241  2018"
      ]
     },
     "execution_count": 6,
     "metadata": {},
     "output_type": "execute_result"
    }
   ],
   "source": [
    "df_ratings.head()"
   ]
  },
  {
   "cell_type": "markdown",
   "id": "a6cd3c02",
   "metadata": {},
   "source": [
    "## 1.2 Creating separated ratings"
   ]
  },
  {
   "cell_type": "code",
   "execution_count": 7,
   "id": "0a61846a",
   "metadata": {
    "ExecuteTime": {
     "end_time": "2022-11-17T06:33:33.017957Z",
     "start_time": "2022-11-17T06:33:33.006969Z"
    }
   },
   "outputs": [],
   "source": [
    "df_home_ratings = df_ratings[['team', 'rank', 'rating', 'year']]\n",
    "df_away_ratings = df_ratings[['team', 'rank', 'rating', 'year']]\n",
    "\n",
    "df_home_ratings = df_home_ratings.rename(columns={'team': 'home_teams'})\n",
    "df_away_ratings = df_away_ratings.rename(columns={'team': 'away_teams'})"
   ]
  },
  {
   "cell_type": "markdown",
   "id": "aa9691be",
   "metadata": {},
   "source": [
    "## 1.3 Renaming countries"
   ]
  },
  {
   "cell_type": "markdown",
   "id": "1ecf6a8a",
   "metadata": {},
   "source": [
    "### 1.3.1 Games DF"
   ]
  },
  {
   "cell_type": "code",
   "execution_count": 8,
   "id": "1fbaee07",
   "metadata": {
    "ExecuteTime": {
     "end_time": "2022-11-17T06:33:34.496809Z",
     "start_time": "2022-11-17T06:33:34.473816Z"
    }
   },
   "outputs": [],
   "source": [
    "df_games.loc[df_games['home_teams'] == 'united states', 'home_teams'] = 'usa'\n",
    "df_games.loc[df_games['home_teams'] == 'ir iran', 'home_teams'] = 'iran'\n",
    "df_games.loc[df_games['home_teams'] == 'Bosnia and Herzegovina', 'home_teams'] = 'bosnia-herzegovina'\n",
    "\n",
    "df_games.loc[df_games['away_teams'] == 'united states', 'away_teams'] = 'usa'\n",
    "df_games.loc[df_games['away_teams'] == 'ir iran', 'away_teams'] = 'iran'\n",
    "df_games.loc[df_games['away_teams'] == 'Bosnia and Herzegovina', 'away_teams'] = 'bosnia-herzegovina'"
   ]
  },
  {
   "cell_type": "markdown",
   "id": "e50adbf3",
   "metadata": {},
   "source": [
    "### 1.3.2 Ratings DF"
   ]
  },
  {
   "cell_type": "code",
   "execution_count": 9,
   "id": "47e99684",
   "metadata": {
    "ExecuteTime": {
     "end_time": "2022-11-17T06:33:35.477148Z",
     "start_time": "2022-11-17T06:33:35.466184Z"
    },
    "scrolled": true
   },
   "outputs": [],
   "source": [
    "df_home_ratings.loc[df_home_ratings['home_teams'] == 'ir iran', 'home_teams'] = 'iran'\n",
    "df_home_ratings.loc[df_home_ratings['home_teams'] == 'bosnia and herzegovina', 'home_teams'] = 'bosnia-herzegovina'\n",
    "\n",
    "df_away_ratings.loc[df_away_ratings['away_teams'] == 'ir iran', 'away_teams'] = 'iran'\n",
    "df_away_ratings.loc[df_away_ratings['away_teams'] == 'bosnia and herzegovina', 'away_teams'] = 'bosnia-herzegovina'"
   ]
  },
  {
   "cell_type": "markdown",
   "id": "9b67af18",
   "metadata": {},
   "source": [
    "## 1.4 Merging DFs"
   ]
  },
  {
   "cell_type": "code",
   "execution_count": 10,
   "id": "246709a1",
   "metadata": {
    "ExecuteTime": {
     "end_time": "2022-11-17T06:33:36.518840Z",
     "start_time": "2022-11-17T06:33:36.495471Z"
    },
    "scrolled": true
   },
   "outputs": [],
   "source": [
    "df_games_ratings = df_games.merge(df_home_ratings, how='left', on=['home_teams', 'year'])\n",
    "df_games_ratings.loc[df_games_ratings['home_teams'] == 'korea dpr', 'rating'] = 285\n",
    "\n",
    "df_games_ratings_final = df_games_ratings.merge(df_away_ratings, how='left', on=['away_teams', 'year'])\n",
    "df_games_ratings_final.loc[df_games_ratings_final['away_teams'] == 'korea dpr', 'rating_y'] = 285"
   ]
  },
  {
   "cell_type": "markdown",
   "id": "05fc2c3a",
   "metadata": {},
   "source": [
    "### 1.4.1 Renaming ratings columns"
   ]
  },
  {
   "cell_type": "code",
   "execution_count": 11,
   "id": "d8a70008",
   "metadata": {
    "ExecuteTime": {
     "end_time": "2022-11-17T06:33:38.237851Z",
     "start_time": "2022-11-17T06:33:38.229836Z"
    }
   },
   "outputs": [],
   "source": [
    "df_games_ratings_final = df_games_ratings_final.rename(columns={'rating_x': 'rating_home_teams', 'rating_y': 'rating_away_teams'})"
   ]
  },
  {
   "cell_type": "code",
   "execution_count": 12,
   "id": "d92e30c9",
   "metadata": {
    "ExecuteTime": {
     "end_time": "2022-11-17T06:33:38.768624Z",
     "start_time": "2022-11-17T06:33:38.742513Z"
    }
   },
   "outputs": [
    {
     "data": {
      "text/html": [
       "<div>\n",
       "<style scoped>\n",
       "    .dataframe tbody tr th:only-of-type {\n",
       "        vertical-align: middle;\n",
       "    }\n",
       "\n",
       "    .dataframe tbody tr th {\n",
       "        vertical-align: top;\n",
       "    }\n",
       "\n",
       "    .dataframe thead th {\n",
       "        text-align: right;\n",
       "    }\n",
       "</style>\n",
       "<table border=\"1\" class=\"dataframe\">\n",
       "  <thead>\n",
       "    <tr style=\"text-align: right;\">\n",
       "      <th></th>\n",
       "      <th>home_teams</th>\n",
       "      <th>away_teams</th>\n",
       "      <th>home_goals</th>\n",
       "      <th>away_goals</th>\n",
       "      <th>year</th>\n",
       "      <th>rank_x</th>\n",
       "      <th>rating_home_teams</th>\n",
       "      <th>rank_y</th>\n",
       "      <th>rating_away_teams</th>\n",
       "    </tr>\n",
       "  </thead>\n",
       "  <tbody>\n",
       "    <tr>\n",
       "      <th>0</th>\n",
       "      <td>russia</td>\n",
       "      <td>saudi arabia</td>\n",
       "      <td>5</td>\n",
       "      <td>0</td>\n",
       "      <td>2018</td>\n",
       "      <td>70.0</td>\n",
       "      <td>457.0</td>\n",
       "      <td>67.0</td>\n",
       "      <td>465.0</td>\n",
       "    </tr>\n",
       "    <tr>\n",
       "      <th>16</th>\n",
       "      <td>russia</td>\n",
       "      <td>egypt</td>\n",
       "      <td>3</td>\n",
       "      <td>1</td>\n",
       "      <td>2018</td>\n",
       "      <td>70.0</td>\n",
       "      <td>457.0</td>\n",
       "      <td>45.0</td>\n",
       "      <td>649.0</td>\n",
       "    </tr>\n",
       "    <tr>\n",
       "      <th>64</th>\n",
       "      <td>russia</td>\n",
       "      <td>korea republic</td>\n",
       "      <td>1</td>\n",
       "      <td>1</td>\n",
       "      <td>2014</td>\n",
       "      <td>19.0</td>\n",
       "      <td>893.0</td>\n",
       "      <td>57.0</td>\n",
       "      <td>547.0</td>\n",
       "    </tr>\n",
       "    <tr>\n",
       "      <th>206</th>\n",
       "      <td>russia</td>\n",
       "      <td>tunisia</td>\n",
       "      <td>2</td>\n",
       "      <td>0</td>\n",
       "      <td>2002</td>\n",
       "      <td>28.0</td>\n",
       "      <td>644.0</td>\n",
       "      <td>31.0</td>\n",
       "      <td>635.0</td>\n",
       "    </tr>\n",
       "    <tr>\n",
       "      <th>319</th>\n",
       "      <td>russia</td>\n",
       "      <td>cameroon</td>\n",
       "      <td>6</td>\n",
       "      <td>1</td>\n",
       "      <td>1994</td>\n",
       "      <td>19.0</td>\n",
       "      <td>50.0</td>\n",
       "      <td>24.0</td>\n",
       "      <td>46.0</td>\n",
       "    </tr>\n",
       "  </tbody>\n",
       "</table>\n",
       "</div>"
      ],
      "text/plain": [
       "    home_teams      away_teams  home_goals  away_goals  year  rank_x  \\\n",
       "0       russia    saudi arabia           5           0  2018    70.0   \n",
       "16      russia           egypt           3           1  2018    70.0   \n",
       "64      russia  korea republic           1           1  2014    19.0   \n",
       "206     russia         tunisia           2           0  2002    28.0   \n",
       "319     russia        cameroon           6           1  1994    19.0   \n",
       "\n",
       "     rating_home_teams  rank_y  rating_away_teams  \n",
       "0                457.0    67.0              465.0  \n",
       "16               457.0    45.0              649.0  \n",
       "64               893.0    57.0              547.0  \n",
       "206              644.0    31.0              635.0  \n",
       "319               50.0    24.0               46.0  "
      ]
     },
     "execution_count": 12,
     "metadata": {},
     "output_type": "execute_result"
    }
   ],
   "source": [
    "df_games_ratings_final[df_games_ratings_final['home_teams'] == 'russia']"
   ]
  },
  {
   "cell_type": "markdown",
   "id": "8a271103",
   "metadata": {},
   "source": [
    "### 1.4.2 Dropping team names columns"
   ]
  },
  {
   "cell_type": "code",
   "execution_count": 13,
   "id": "9d6214b0",
   "metadata": {
    "ExecuteTime": {
     "end_time": "2022-11-17T06:33:40.330043Z",
     "start_time": "2022-11-17T06:33:40.320950Z"
    }
   },
   "outputs": [],
   "source": [
    "df_final = df_games_ratings_final.drop(['home_teams', 'away_teams'], axis=1)"
   ]
  },
  {
   "cell_type": "code",
   "execution_count": 14,
   "id": "eb3b21a1",
   "metadata": {
    "ExecuteTime": {
     "end_time": "2022-11-17T06:33:40.739695Z",
     "start_time": "2022-11-17T06:33:40.727392Z"
    },
    "scrolled": false
   },
   "outputs": [
    {
     "data": {
      "text/html": [
       "<div>\n",
       "<style scoped>\n",
       "    .dataframe tbody tr th:only-of-type {\n",
       "        vertical-align: middle;\n",
       "    }\n",
       "\n",
       "    .dataframe tbody tr th {\n",
       "        vertical-align: top;\n",
       "    }\n",
       "\n",
       "    .dataframe thead th {\n",
       "        text-align: right;\n",
       "    }\n",
       "</style>\n",
       "<table border=\"1\" class=\"dataframe\">\n",
       "  <thead>\n",
       "    <tr style=\"text-align: right;\">\n",
       "      <th></th>\n",
       "      <th>home_goals</th>\n",
       "      <th>away_goals</th>\n",
       "      <th>year</th>\n",
       "      <th>rank_x</th>\n",
       "      <th>rating_home_teams</th>\n",
       "      <th>rank_y</th>\n",
       "      <th>rating_away_teams</th>\n",
       "    </tr>\n",
       "  </thead>\n",
       "  <tbody>\n",
       "    <tr>\n",
       "      <th>0</th>\n",
       "      <td>5</td>\n",
       "      <td>0</td>\n",
       "      <td>2018</td>\n",
       "      <td>70.0</td>\n",
       "      <td>457.0</td>\n",
       "      <td>67.0</td>\n",
       "      <td>465.0</td>\n",
       "    </tr>\n",
       "    <tr>\n",
       "      <th>1</th>\n",
       "      <td>0</td>\n",
       "      <td>1</td>\n",
       "      <td>2018</td>\n",
       "      <td>45.0</td>\n",
       "      <td>649.0</td>\n",
       "      <td>14.0</td>\n",
       "      <td>1018.0</td>\n",
       "    </tr>\n",
       "    <tr>\n",
       "      <th>2</th>\n",
       "      <td>0</td>\n",
       "      <td>1</td>\n",
       "      <td>2018</td>\n",
       "      <td>41.0</td>\n",
       "      <td>686.0</td>\n",
       "      <td>37.0</td>\n",
       "      <td>708.0</td>\n",
       "    </tr>\n",
       "    <tr>\n",
       "      <th>3</th>\n",
       "      <td>3</td>\n",
       "      <td>3</td>\n",
       "      <td>2018</td>\n",
       "      <td>4.0</td>\n",
       "      <td>1274.0</td>\n",
       "      <td>10.0</td>\n",
       "      <td>1126.0</td>\n",
       "    </tr>\n",
       "    <tr>\n",
       "      <th>4</th>\n",
       "      <td>2</td>\n",
       "      <td>1</td>\n",
       "      <td>2018</td>\n",
       "      <td>7.0</td>\n",
       "      <td>1198.0</td>\n",
       "      <td>36.0</td>\n",
       "      <td>718.0</td>\n",
       "    </tr>\n",
       "  </tbody>\n",
       "</table>\n",
       "</div>"
      ],
      "text/plain": [
       "   home_goals  away_goals  year  rank_x  rating_home_teams  rank_y  \\\n",
       "0           5           0  2018    70.0              457.0    67.0   \n",
       "1           0           1  2018    45.0              649.0    14.0   \n",
       "2           0           1  2018    41.0              686.0    37.0   \n",
       "3           3           3  2018     4.0             1274.0    10.0   \n",
       "4           2           1  2018     7.0             1198.0    36.0   \n",
       "\n",
       "   rating_away_teams  \n",
       "0              465.0  \n",
       "1             1018.0  \n",
       "2              708.0  \n",
       "3             1126.0  \n",
       "4              718.0  "
      ]
     },
     "execution_count": 14,
     "metadata": {},
     "output_type": "execute_result"
    }
   ],
   "source": [
    "df_final.head()"
   ]
  },
  {
   "cell_type": "markdown",
   "id": "df42e1bf",
   "metadata": {},
   "source": [
    "## 1.5 Creating Results Column"
   ]
  },
  {
   "cell_type": "code",
   "execution_count": 15,
   "id": "2cded463",
   "metadata": {
    "ExecuteTime": {
     "end_time": "2022-11-17T06:33:42.578907Z",
     "start_time": "2022-11-17T06:33:42.544941Z"
    }
   },
   "outputs": [],
   "source": [
    "df_final['results'] = 0\n",
    "\n",
    "df_final.loc[df_final['home_goals'] == df_final['away_goals'], 'results'] = 0\n",
    "df_final.loc[df_final['home_goals'] > df_final['away_goals'], 'results'] = 1\n",
    "df_final.loc[df_final['home_goals'] < df_final['away_goals'], 'results'] = 2"
   ]
  },
  {
   "cell_type": "code",
   "execution_count": 16,
   "id": "05c761d4",
   "metadata": {
    "ExecuteTime": {
     "end_time": "2022-11-17T06:33:43.061796Z",
     "start_time": "2022-11-17T06:33:42.948033Z"
    }
   },
   "outputs": [
    {
     "data": {
      "text/html": [
       "<div>\n",
       "<style scoped>\n",
       "    .dataframe tbody tr th:only-of-type {\n",
       "        vertical-align: middle;\n",
       "    }\n",
       "\n",
       "    .dataframe tbody tr th {\n",
       "        vertical-align: top;\n",
       "    }\n",
       "\n",
       "    .dataframe thead th {\n",
       "        text-align: right;\n",
       "    }\n",
       "</style>\n",
       "<table border=\"1\" class=\"dataframe\">\n",
       "  <thead>\n",
       "    <tr style=\"text-align: right;\">\n",
       "      <th></th>\n",
       "      <th>home_goals</th>\n",
       "      <th>away_goals</th>\n",
       "      <th>year</th>\n",
       "      <th>rank_x</th>\n",
       "      <th>rating_home_teams</th>\n",
       "      <th>rank_y</th>\n",
       "      <th>rating_away_teams</th>\n",
       "      <th>results</th>\n",
       "    </tr>\n",
       "  </thead>\n",
       "  <tbody>\n",
       "    <tr>\n",
       "      <th>0</th>\n",
       "      <td>5</td>\n",
       "      <td>0</td>\n",
       "      <td>2018</td>\n",
       "      <td>70.0</td>\n",
       "      <td>457.0</td>\n",
       "      <td>67.0</td>\n",
       "      <td>465.0</td>\n",
       "      <td>1</td>\n",
       "    </tr>\n",
       "    <tr>\n",
       "      <th>1</th>\n",
       "      <td>0</td>\n",
       "      <td>1</td>\n",
       "      <td>2018</td>\n",
       "      <td>45.0</td>\n",
       "      <td>649.0</td>\n",
       "      <td>14.0</td>\n",
       "      <td>1018.0</td>\n",
       "      <td>2</td>\n",
       "    </tr>\n",
       "    <tr>\n",
       "      <th>2</th>\n",
       "      <td>0</td>\n",
       "      <td>1</td>\n",
       "      <td>2018</td>\n",
       "      <td>41.0</td>\n",
       "      <td>686.0</td>\n",
       "      <td>37.0</td>\n",
       "      <td>708.0</td>\n",
       "      <td>2</td>\n",
       "    </tr>\n",
       "    <tr>\n",
       "      <th>3</th>\n",
       "      <td>3</td>\n",
       "      <td>3</td>\n",
       "      <td>2018</td>\n",
       "      <td>4.0</td>\n",
       "      <td>1274.0</td>\n",
       "      <td>10.0</td>\n",
       "      <td>1126.0</td>\n",
       "      <td>0</td>\n",
       "    </tr>\n",
       "    <tr>\n",
       "      <th>4</th>\n",
       "      <td>2</td>\n",
       "      <td>1</td>\n",
       "      <td>2018</td>\n",
       "      <td>7.0</td>\n",
       "      <td>1198.0</td>\n",
       "      <td>36.0</td>\n",
       "      <td>718.0</td>\n",
       "      <td>1</td>\n",
       "    </tr>\n",
       "  </tbody>\n",
       "</table>\n",
       "</div>"
      ],
      "text/plain": [
       "   home_goals  away_goals  year  rank_x  rating_home_teams  rank_y  \\\n",
       "0           5           0  2018    70.0              457.0    67.0   \n",
       "1           0           1  2018    45.0              649.0    14.0   \n",
       "2           0           1  2018    41.0              686.0    37.0   \n",
       "3           3           3  2018     4.0             1274.0    10.0   \n",
       "4           2           1  2018     7.0             1198.0    36.0   \n",
       "\n",
       "   rating_away_teams  results  \n",
       "0              465.0        1  \n",
       "1             1018.0        2  \n",
       "2              708.0        2  \n",
       "3             1126.0        0  \n",
       "4              718.0        1  "
      ]
     },
     "execution_count": 16,
     "metadata": {},
     "output_type": "execute_result"
    }
   ],
   "source": [
    "df_final.head()"
   ]
  },
  {
   "cell_type": "markdown",
   "id": "d80bf724",
   "metadata": {},
   "source": [
    "# 2.0 Model Creation"
   ]
  },
  {
   "cell_type": "markdown",
   "id": "c64d9e99",
   "metadata": {},
   "source": [
    "## 2.1 Features and Labels"
   ]
  },
  {
   "cell_type": "code",
   "execution_count": 17,
   "id": "140b58fc",
   "metadata": {
    "ExecuteTime": {
     "end_time": "2022-11-17T06:33:47.297342Z",
     "start_time": "2022-11-17T06:33:47.277215Z"
    }
   },
   "outputs": [],
   "source": [
    "df_final_ = df_final[(df_final['year'] != 1994) & (df_final['year'] != 1998)]"
   ]
  },
  {
   "cell_type": "code",
   "execution_count": 18,
   "id": "5006939b",
   "metadata": {
    "ExecuteTime": {
     "end_time": "2022-11-17T06:33:47.644016Z",
     "start_time": "2022-11-17T06:33:47.626024Z"
    },
    "collapsed": true
   },
   "outputs": [
    {
     "name": "stderr",
     "output_type": "stream",
     "text": [
      "<ipython-input-18-ed00235dc8ff>:1: SettingWithCopyWarning: \n",
      "A value is trying to be set on a copy of a slice from a DataFrame.\n",
      "Try using .loc[row_indexer,col_indexer] = value instead\n",
      "\n",
      "See the caveats in the documentation: https://pandas.pydata.org/pandas-docs/stable/user_guide/indexing.html#returning-a-view-versus-a-copy\n",
      "  df_final_['rating_diff'] = abs(df_final_['rating_home_teams'] - df_final_['rating_away_teams'])\n"
     ]
    }
   ],
   "source": [
    "df_final_['rating_diff'] = abs(df_final_['rating_home_teams'] - df_final_['rating_away_teams'])"
   ]
  },
  {
   "cell_type": "code",
   "execution_count": 19,
   "id": "176d4956",
   "metadata": {
    "ExecuteTime": {
     "end_time": "2022-11-17T06:33:48.409944Z",
     "start_time": "2022-11-17T06:33:48.402017Z"
    }
   },
   "outputs": [],
   "source": [
    "df_final_no_outliers = df_final_.drop(df_final_[((df_final_['rating_diff']) > 900)].index)"
   ]
  },
  {
   "cell_type": "code",
   "execution_count": 20,
   "id": "4a7300fb",
   "metadata": {
    "ExecuteTime": {
     "end_time": "2022-11-17T06:33:49.551372Z",
     "start_time": "2022-11-17T06:33:49.536578Z"
    }
   },
   "outputs": [],
   "source": [
    "features_no_outliers = df_final_no_outliers[['rating_home_teams', 'rating_away_teams']]\n",
    "features = df_final_[['rating_home_teams', 'rating_away_teams']]\n",
    "labels = df_final_[['home_goals', 'away_goals']]\n",
    "labels_no_outliers = df_final_no_outliers[['home_goals', 'away_goals']]"
   ]
  },
  {
   "cell_type": "markdown",
   "id": "d131ed91",
   "metadata": {},
   "source": [
    "## 2.2 MinMax features"
   ]
  },
  {
   "cell_type": "code",
   "execution_count": 21,
   "id": "47928a54",
   "metadata": {
    "ExecuteTime": {
     "end_time": "2022-11-17T06:33:50.239134Z",
     "start_time": "2022-11-17T06:33:50.218164Z"
    }
   },
   "outputs": [],
   "source": [
    "scaler = MinMaxScaler().fit(features_no_outliers)\n",
    "features_scale = scaler.transform(features_no_outliers)"
   ]
  },
  {
   "cell_type": "code",
   "execution_count": 22,
   "id": "3080b8e1",
   "metadata": {
    "ExecuteTime": {
     "end_time": "2022-11-17T06:33:50.583676Z",
     "start_time": "2022-11-17T06:33:50.569684Z"
    }
   },
   "outputs": [],
   "source": [
    "X = features_scale\n",
    "y = labels_no_outliers.values"
   ]
  },
  {
   "cell_type": "markdown",
   "id": "b725b0e4",
   "metadata": {},
   "source": [
    "## 2.3 Splitting in train and test"
   ]
  },
  {
   "cell_type": "code",
   "execution_count": 23,
   "id": "939b73ac",
   "metadata": {
    "ExecuteTime": {
     "end_time": "2022-11-17T06:33:51.677664Z",
     "start_time": "2022-11-17T06:33:51.668645Z"
    }
   },
   "outputs": [],
   "source": [
    "X_train, X_test, y_train, y_test = train_test_split(X, y, random_state=42, train_size=0.7)"
   ]
  },
  {
   "cell_type": "code",
   "execution_count": 24,
   "id": "d24b1d06",
   "metadata": {
    "ExecuteTime": {
     "end_time": "2022-11-17T06:33:52.144985Z",
     "start_time": "2022-11-17T06:33:52.139007Z"
    }
   },
   "outputs": [
    {
     "data": {
      "text/plain": [
       "71"
      ]
     },
     "execution_count": 24,
     "metadata": {},
     "output_type": "execute_result"
    }
   ],
   "source": [
    "len(y_test)"
   ]
  },
  {
   "cell_type": "markdown",
   "id": "cc6882eb",
   "metadata": {},
   "source": [
    "## 2.4 MultiOutputClassifier Model"
   ]
  },
  {
   "cell_type": "code",
   "execution_count": 26,
   "id": "2a32672b",
   "metadata": {
    "ExecuteTime": {
     "end_time": "2022-11-17T06:42:04.023649Z",
     "start_time": "2022-11-17T06:42:01.706059Z"
    }
   },
   "outputs": [
    {
     "data": {
      "text/plain": [
       "<AxesSubplot:xlabel='previsao', ylabel='real'>"
      ]
     },
     "execution_count": 26,
     "metadata": {},
     "output_type": "execute_result"
    },
    {
     "data": {
      "image/png": "[encoded data removed]",
      "text/plain": [
       "<Figure size 432x288 with 2 Axes>"
      ]
     },
     "metadata": {
      "needs_background": "light"
     },
     "output_type": "display_data"
    }
   ],
   "source": [
    "knn = KNeighborsClassifier(n_neighbors=31)\n",
    "clf_MO = MultiOutputClassifier(knn, n_jobs=-1)\n",
    "clf_MO.fit(X_train, y_train)\n",
    "pred_multi = clf_MO.predict(X_test)\n",
    "\n",
    "\n",
    "df_pred = confusion_matrix_data(pred_multi, y_test)\n",
    "\n",
    "cf_matrix=pd.crosstab(df_pred['result_test'], df_pred['result'], rownames=['real'], colnames=['previsao'])\n",
    "\n",
    "sns.heatmap(cf_matrix, annot=True, cmap='Blues')"
   ]
  },
  {
   "cell_type": "code",
   "execution_count": 72,
   "id": "8be1ccfe",
   "metadata": {
    "ExecuteTime": {
     "end_time": "2022-11-17T06:57:57.410790Z",
     "start_time": "2022-11-17T06:57:57.395790Z"
    }
   },
   "outputs": [],
   "source": [
    "prediction_final = pd.read_csv('prediction_games_22.csv').drop(['Unnamed: 0'], axis=1)"
   ]
  },
  {
   "cell_type": "code",
   "execution_count": 73,
   "id": "1a8493d6",
   "metadata": {
    "ExecuteTime": {
     "end_time": "2022-11-17T06:57:57.804584Z",
     "start_time": "2022-11-17T06:57:57.781595Z"
    },
    "collapsed": true
   },
   "outputs": [
    {
     "data": {
      "text/html": [
       "<div>\n",
       "<style scoped>\n",
       "    .dataframe tbody tr th:only-of-type {\n",
       "        vertical-align: middle;\n",
       "    }\n",
       "\n",
       "    .dataframe tbody tr th {\n",
       "        vertical-align: top;\n",
       "    }\n",
       "\n",
       "    .dataframe thead th {\n",
       "        text-align: right;\n",
       "    }\n",
       "</style>\n",
       "<table border=\"1\" class=\"dataframe\">\n",
       "  <thead>\n",
       "    <tr style=\"text-align: right;\">\n",
       "      <th></th>\n",
       "      <th>avg_points_x</th>\n",
       "      <th>avg_points_y</th>\n",
       "    </tr>\n",
       "  </thead>\n",
       "  <tbody>\n",
       "    <tr>\n",
       "      <th>0</th>\n",
       "      <td>1559.945</td>\n",
       "      <td>1648.695</td>\n",
       "    </tr>\n",
       "    <tr>\n",
       "      <th>1</th>\n",
       "      <td>1635.690</td>\n",
       "      <td>1867.255</td>\n",
       "    </tr>\n",
       "    <tr>\n",
       "      <th>2</th>\n",
       "      <td>1824.235</td>\n",
       "      <td>1690.805</td>\n",
       "    </tr>\n",
       "    <tr>\n",
       "      <th>3</th>\n",
       "      <td>1712.740</td>\n",
       "      <td>1679.910</td>\n",
       "    </tr>\n",
       "    <tr>\n",
       "      <th>4</th>\n",
       "      <td>1882.390</td>\n",
       "      <td>1603.860</td>\n",
       "    </tr>\n",
       "    <tr>\n",
       "      <th>5</th>\n",
       "      <td>1818.785</td>\n",
       "      <td>1597.270</td>\n",
       "    </tr>\n",
       "    <tr>\n",
       "      <th>6</th>\n",
       "      <td>1732.945</td>\n",
       "      <td>1678.795</td>\n",
       "    </tr>\n",
       "    <tr>\n",
       "      <th>7</th>\n",
       "      <td>1957.440</td>\n",
       "      <td>1538.890</td>\n",
       "    </tr>\n",
       "    <tr>\n",
       "      <th>8</th>\n",
       "      <td>1920.855</td>\n",
       "      <td>1620.000</td>\n",
       "    </tr>\n",
       "    <tr>\n",
       "      <th>9</th>\n",
       "      <td>1880.110</td>\n",
       "      <td>1623.295</td>\n",
       "    </tr>\n",
       "    <tr>\n",
       "      <th>10</th>\n",
       "      <td>1805.105</td>\n",
       "      <td>1678.770</td>\n",
       "    </tr>\n",
       "    <tr>\n",
       "      <th>11</th>\n",
       "      <td>1658.250</td>\n",
       "      <td>1783.820</td>\n",
       "    </tr>\n",
       "    <tr>\n",
       "      <th>12</th>\n",
       "      <td>1782.460</td>\n",
       "      <td>1540.220</td>\n",
       "    </tr>\n",
       "    <tr>\n",
       "      <th>13</th>\n",
       "      <td>1787.355</td>\n",
       "      <td>1658.150</td>\n",
       "    </tr>\n",
       "    <tr>\n",
       "      <th>14</th>\n",
       "      <td>1840.280</td>\n",
       "      <td>1466.500</td>\n",
       "    </tr>\n",
       "    <tr>\n",
       "      <th>15</th>\n",
       "      <td>2005.150</td>\n",
       "      <td>1727.810</td>\n",
       "    </tr>\n",
       "    <tr>\n",
       "      <th>16</th>\n",
       "      <td>1679.910</td>\n",
       "      <td>1690.805</td>\n",
       "    </tr>\n",
       "    <tr>\n",
       "      <th>17</th>\n",
       "      <td>1559.945</td>\n",
       "      <td>1635.690</td>\n",
       "    </tr>\n",
       "    <tr>\n",
       "      <th>18</th>\n",
       "      <td>1867.255</td>\n",
       "      <td>1648.695</td>\n",
       "    </tr>\n",
       "    <tr>\n",
       "      <th>19</th>\n",
       "      <td>1824.235</td>\n",
       "      <td>1712.740</td>\n",
       "    </tr>\n",
       "    <tr>\n",
       "      <th>20</th>\n",
       "      <td>1597.270</td>\n",
       "      <td>1603.860</td>\n",
       "    </tr>\n",
       "    <tr>\n",
       "      <th>21</th>\n",
       "      <td>1678.795</td>\n",
       "      <td>1538.890</td>\n",
       "    </tr>\n",
       "    <tr>\n",
       "      <th>22</th>\n",
       "      <td>1882.390</td>\n",
       "      <td>1818.785</td>\n",
       "    </tr>\n",
       "    <tr>\n",
       "      <th>23</th>\n",
       "      <td>1957.440</td>\n",
       "      <td>1732.945</td>\n",
       "    </tr>\n",
       "    <tr>\n",
       "      <th>24</th>\n",
       "      <td>1678.770</td>\n",
       "      <td>1623.295</td>\n",
       "    </tr>\n",
       "    <tr>\n",
       "      <th>25</th>\n",
       "      <td>1920.855</td>\n",
       "      <td>1658.250</td>\n",
       "    </tr>\n",
       "    <tr>\n",
       "      <th>26</th>\n",
       "      <td>1783.820</td>\n",
       "      <td>1620.000</td>\n",
       "    </tr>\n",
       "    <tr>\n",
       "      <th>27</th>\n",
       "      <td>1880.110</td>\n",
       "      <td>1805.105</td>\n",
       "    </tr>\n",
       "    <tr>\n",
       "      <th>28</th>\n",
       "      <td>1540.220</td>\n",
       "      <td>1727.810</td>\n",
       "    </tr>\n",
       "    <tr>\n",
       "      <th>29</th>\n",
       "      <td>1658.150</td>\n",
       "      <td>1466.500</td>\n",
       "    </tr>\n",
       "    <tr>\n",
       "      <th>30</th>\n",
       "      <td>2005.150</td>\n",
       "      <td>1782.460</td>\n",
       "    </tr>\n",
       "    <tr>\n",
       "      <th>31</th>\n",
       "      <td>1840.280</td>\n",
       "      <td>1787.355</td>\n",
       "    </tr>\n",
       "    <tr>\n",
       "      <th>32</th>\n",
       "      <td>1679.910</td>\n",
       "      <td>1824.235</td>\n",
       "    </tr>\n",
       "    <tr>\n",
       "      <th>33</th>\n",
       "      <td>1690.805</td>\n",
       "      <td>1712.740</td>\n",
       "    </tr>\n",
       "    <tr>\n",
       "      <th>34</th>\n",
       "      <td>1648.695</td>\n",
       "      <td>1635.690</td>\n",
       "    </tr>\n",
       "    <tr>\n",
       "      <th>35</th>\n",
       "      <td>1867.255</td>\n",
       "      <td>1559.945</td>\n",
       "    </tr>\n",
       "    <tr>\n",
       "      <th>36</th>\n",
       "      <td>1603.860</td>\n",
       "      <td>1818.785</td>\n",
       "    </tr>\n",
       "    <tr>\n",
       "      <th>37</th>\n",
       "      <td>1597.270</td>\n",
       "      <td>1882.390</td>\n",
       "    </tr>\n",
       "    <tr>\n",
       "      <th>38</th>\n",
       "      <td>1678.795</td>\n",
       "      <td>1957.440</td>\n",
       "    </tr>\n",
       "    <tr>\n",
       "      <th>39</th>\n",
       "      <td>1538.890</td>\n",
       "      <td>1732.945</td>\n",
       "    </tr>\n",
       "    <tr>\n",
       "      <th>40</th>\n",
       "      <td>1783.820</td>\n",
       "      <td>1920.855</td>\n",
       "    </tr>\n",
       "    <tr>\n",
       "      <th>41</th>\n",
       "      <td>1620.000</td>\n",
       "      <td>1658.250</td>\n",
       "    </tr>\n",
       "    <tr>\n",
       "      <th>42</th>\n",
       "      <td>1678.770</td>\n",
       "      <td>1880.110</td>\n",
       "    </tr>\n",
       "    <tr>\n",
       "      <th>43</th>\n",
       "      <td>1623.295</td>\n",
       "      <td>1805.105</td>\n",
       "    </tr>\n",
       "    <tr>\n",
       "      <th>44</th>\n",
       "      <td>1466.500</td>\n",
       "      <td>1787.355</td>\n",
       "    </tr>\n",
       "    <tr>\n",
       "      <th>45</th>\n",
       "      <td>1658.150</td>\n",
       "      <td>1840.280</td>\n",
       "    </tr>\n",
       "    <tr>\n",
       "      <th>46</th>\n",
       "      <td>1727.810</td>\n",
       "      <td>1782.460</td>\n",
       "    </tr>\n",
       "    <tr>\n",
       "      <th>47</th>\n",
       "      <td>1540.220</td>\n",
       "      <td>2005.150</td>\n",
       "    </tr>\n",
       "  </tbody>\n",
       "</table>\n",
       "</div>"
      ],
      "text/plain": [
       "    avg_points_x  avg_points_y\n",
       "0       1559.945      1648.695\n",
       "1       1635.690      1867.255\n",
       "2       1824.235      1690.805\n",
       "3       1712.740      1679.910\n",
       "4       1882.390      1603.860\n",
       "5       1818.785      1597.270\n",
       "6       1732.945      1678.795\n",
       "7       1957.440      1538.890\n",
       "8       1920.855      1620.000\n",
       "9       1880.110      1623.295\n",
       "10      1805.105      1678.770\n",
       "11      1658.250      1783.820\n",
       "12      1782.460      1540.220\n",
       "13      1787.355      1658.150\n",
       "14      1840.280      1466.500\n",
       "15      2005.150      1727.810\n",
       "16      1679.910      1690.805\n",
       "17      1559.945      1635.690\n",
       "18      1867.255      1648.695\n",
       "19      1824.235      1712.740\n",
       "20      1597.270      1603.860\n",
       "21      1678.795      1538.890\n",
       "22      1882.390      1818.785\n",
       "23      1957.440      1732.945\n",
       "24      1678.770      1623.295\n",
       "25      1920.855      1658.250\n",
       "26      1783.820      1620.000\n",
       "27      1880.110      1805.105\n",
       "28      1540.220      1727.810\n",
       "29      1658.150      1466.500\n",
       "30      2005.150      1782.460\n",
       "31      1840.280      1787.355\n",
       "32      1679.910      1824.235\n",
       "33      1690.805      1712.740\n",
       "34      1648.695      1635.690\n",
       "35      1867.255      1559.945\n",
       "36      1603.860      1818.785\n",
       "37      1597.270      1882.390\n",
       "38      1678.795      1957.440\n",
       "39      1538.890      1732.945\n",
       "40      1783.820      1920.855\n",
       "41      1620.000      1658.250\n",
       "42      1678.770      1880.110\n",
       "43      1623.295      1805.105\n",
       "44      1466.500      1787.355\n",
       "45      1658.150      1840.280\n",
       "46      1727.810      1782.460\n",
       "47      1540.220      2005.150"
      ]
     },
     "execution_count": 73,
     "metadata": {},
     "output_type": "execute_result"
    }
   ],
   "source": [
    "prediction_final"
   ]
  },
  {
   "cell_type": "code",
   "execution_count": 74,
   "id": "45553a0a",
   "metadata": {
    "ExecuteTime": {
     "end_time": "2022-11-17T06:58:00.561097Z",
     "start_time": "2022-11-17T06:58:00.539118Z"
    }
   },
   "outputs": [],
   "source": [
    "scaler = MinMaxScaler().fit(prediction_final)\n",
    "features_scale = scaler.transform(prediction_final)"
   ]
  },
  {
   "cell_type": "code",
   "execution_count": 75,
   "id": "d94733e0",
   "metadata": {
    "ExecuteTime": {
     "end_time": "2022-11-17T06:58:02.214038Z",
     "start_time": "2022-11-17T06:58:00.941571Z"
    },
    "scrolled": true
   },
   "outputs": [],
   "source": [
    "final_predictions = clf_MO.predict(features_scale)"
   ]
  },
  {
   "cell_type": "code",
   "execution_count": 76,
   "id": "db5d85d8",
   "metadata": {
    "ExecuteTime": {
     "end_time": "2022-11-17T06:58:03.850813Z",
     "start_time": "2022-11-17T06:58:03.846817Z"
    },
    "scrolled": true
   },
   "outputs": [],
   "source": [
    "final_predictions = final_predictions.tolist()"
   ]
  },
  {
   "cell_type": "code",
   "execution_count": 70,
   "id": "3bba4722",
   "metadata": {
    "ExecuteTime": {
     "end_time": "2022-11-17T06:49:10.254666Z",
     "start_time": "2022-11-17T06:49:10.240244Z"
    },
    "scrolled": false
   },
   "outputs": [],
   "source": [
    "final_predictions.insert(0, ['home_goals', 'away_goals'])"
   ]
  },
  {
   "cell_type": "code",
   "execution_count": 71,
   "id": "60cc0d61",
   "metadata": {
    "ExecuteTime": {
     "end_time": "2022-11-17T06:49:11.298814Z",
     "start_time": "2022-11-17T06:49:11.291781Z"
    }
   },
   "outputs": [],
   "source": [
    "with open(\"world_cup_predictions.csv\", \"w\", newline=\"\") as f:\n",
    "    writer = csv.writer(f)\n",
    "    writer.writerows(final_predictions)"
   ]
  },
  {
   "cell_type": "code",
   "execution_count": 77,
   "id": "b7694fbc",
   "metadata": {
    "ExecuteTime": {
     "end_time": "2022-11-17T06:59:22.633729Z",
     "start_time": "2022-11-17T06:59:22.628732Z"
    }
   },
   "outputs": [],
   "source": [
    "with open(\"sigma_geek_world_cup_predictions.csv\", \"w\", newline=\"\") as f:\n",
    "    writer = csv.writer(f)\n",
    "    writer.writerows(final_predictions)"
   ]
  },
  {
   "cell_type": "markdown",
   "id": "4c3f29d8",
   "metadata": {
    "heading_collapsed": true
   },
   "source": [
    "## 2.5 Decision tree model"
   ]
  },
  {
   "cell_type": "code",
   "execution_count": 1085,
   "id": "5a6781e2",
   "metadata": {
    "ExecuteTime": {
     "end_time": "2022-11-16T12:10:39.261083Z",
     "start_time": "2022-11-16T12:10:39.253078Z"
    },
    "hidden": true
   },
   "outputs": [],
   "source": [
    "# decision tree\n",
    "\n",
    "clf = DecisionTreeClassifier(random_state=42)\n",
    "clf.fit(X_train, y_train)\n",
    "pred_tree = clf.predict(X_test)\n",
    "\n",
    "#dt_acc = accuracy_score(y_test, pred)\n",
    "#f1 = f1_score(y_test, pred, average = 'macro')\n",
    "\n",
    "#print(f\"Accuracy LogisticRegression: {dt_acc}\")\n",
    "#print(f\"F1 Score: {f1}\")"
   ]
  },
  {
   "cell_type": "code",
   "execution_count": 1175,
   "id": "c62bbdc0",
   "metadata": {
    "ExecuteTime": {
     "end_time": "2022-11-16T14:19:50.631757Z",
     "start_time": "2022-11-16T14:19:50.607741Z"
    },
    "hidden": true
   },
   "outputs": [],
   "source": []
  },
  {
   "cell_type": "code",
   "execution_count": 1179,
   "id": "9ca6a6ea",
   "metadata": {
    "ExecuteTime": {
     "end_time": "2022-11-16T14:20:46.893750Z",
     "start_time": "2022-11-16T14:20:46.869640Z"
    },
    "hidden": true
   },
   "outputs": [],
   "source": [
    "df_pred = confusion_matrix_data(pred_tree, y_test)"
   ]
  },
  {
   "cell_type": "code",
   "execution_count": 1180,
   "id": "f3409586",
   "metadata": {
    "ExecuteTime": {
     "end_time": "2022-11-16T14:20:47.484665Z",
     "start_time": "2022-11-16T14:20:47.139747Z"
    },
    "hidden": true
   },
   "outputs": [
    {
     "data": {
      "text/plain": [
       "<AxesSubplot:xlabel='previsao', ylabel='real'>"
      ]
     },
     "execution_count": 1180,
     "metadata": {},
     "output_type": "execute_result"
    },
    {
     "data": {
      "image/png": "[encoded data removed]",
      "text/plain": [
       "<Figure size 432x288 with 2 Axes>"
      ]
     },
     "metadata": {
      "needs_background": "light"
     },
     "output_type": "display_data"
    }
   ],
   "source": [
    "cf_matrix=pd.crosstab(df_pred['result_test'], df_pred['result'], rownames=['real'], colnames=['previsao'])\n",
    "\n",
    "sns.heatmap(cf_matrix, annot=True, cmap='Blues')"
   ]
  },
  {
   "cell_type": "code",
   "execution_count": null,
   "id": "1386b64b",
   "metadata": {
    "hidden": true
   },
   "outputs": [],
   "source": []
  },
  {
   "cell_type": "markdown",
   "id": "553960f8",
   "metadata": {},
   "source": [
    "## 3.0 Export Model Pickle"
   ]
  },
  {
   "cell_type": "code",
   "execution_count": 99,
   "id": "0ca0c8d6",
   "metadata": {
    "ExecuteTime": {
     "end_time": "2022-11-17T07:08:01.665527Z",
     "start_time": "2022-11-17T07:08:01.649527Z"
    }
   },
   "outputs": [],
   "source": [
    "with open('knn_world_cup_model', 'wb') as f:\n",
    "    pickle.dump(clf_MO, f)"
   ]
  },
  {
   "cell_type": "code",
   "execution_count": 100,
   "id": "e366fd76",
   "metadata": {
    "ExecuteTime": {
     "end_time": "2022-11-17T07:10:06.896646Z",
     "start_time": "2022-11-17T07:10:06.889654Z"
    }
   },
   "outputs": [],
   "source": [
    "with open('knn_world_cup_model', 'rb') as f:\n",
    "    model_load = pickle.load(f)"
   ]
  },
  {
   "cell_type": "code",
   "execution_count": 101,
   "id": "f396d971",
   "metadata": {
    "ExecuteTime": {
     "end_time": "2022-11-17T07:10:07.570093Z",
     "start_time": "2022-11-17T07:10:07.547099Z"
    }
   },
   "outputs": [
    {
     "data": {
      "text/html": [
       "<style>#sk-container-id-1 {color: black;background-color: white;}#sk-container-id-1 pre{padding: 0;}#sk-container-id-1 div.sk-toggleable {background-color: white;}#sk-container-id-1 label.sk-toggleable__label {cursor: pointer;display: block;width: 100%;margin-bottom: 0;padding: 0.3em;box-sizing: border-box;text-align: center;}#sk-container-id-1 label.sk-toggleable__label-arrow:before {content: \"▸\";float: left;margin-right: 0.25em;color: #696969;}#sk-container-id-1 label.sk-toggleable__label-arrow:hover:before {color: black;}#sk-container-id-1 div.sk-estimator:hover label.sk-toggleable__label-arrow:before {color: black;}#sk-container-id-1 div.sk-toggleable__content {max-height: 0;max-width: 0;overflow: hidden;text-align: left;background-color: #f0f8ff;}#sk-container-id-1 div.sk-toggleable__content pre {margin: 0.2em;color: black;border-radius: 0.25em;background-color: #f0f8ff;}#sk-container-id-1 input.sk-toggleable__control:checked~div.sk-toggleable__content {max-height: 200px;max-width: 100%;overflow: auto;}#sk-container-id-1 input.sk-toggleable__control:checked~label.sk-toggleable__label-arrow:before {content: \"▾\";}#sk-container-id-1 div.sk-estimator input.sk-toggleable__control:checked~label.sk-toggleable__label {background-color: #d4ebff;}#sk-container-id-1 div.sk-label input.sk-toggleable__control:checked~label.sk-toggleable__label {background-color: #d4ebff;}#sk-container-id-1 input.sk-hidden--visually {border: 0;clip: rect(1px 1px 1px 1px);clip: rect(1px, 1px, 1px, 1px);height: 1px;margin: -1px;overflow: hidden;padding: 0;position: absolute;width: 1px;}#sk-container-id-1 div.sk-estimator {font-family: monospace;background-color: #f0f8ff;border: 1px dotted black;border-radius: 0.25em;box-sizing: border-box;margin-bottom: 0.5em;}#sk-container-id-1 div.sk-estimator:hover {background-color: #d4ebff;}#sk-container-id-1 div.sk-parallel-item::after {content: \"\";width: 100%;border-bottom: 1px solid gray;flex-grow: 1;}#sk-container-id-1 div.sk-label:hover label.sk-toggleable__label {background-color: #d4ebff;}#sk-container-id-1 div.sk-serial::before {content: \"\";position: absolute;border-left: 1px solid gray;box-sizing: border-box;top: 0;bottom: 0;left: 50%;z-index: 0;}#sk-container-id-1 div.sk-serial {display: flex;flex-direction: column;align-items: center;background-color: white;padding-right: 0.2em;padding-left: 0.2em;position: relative;}#sk-container-id-1 div.sk-item {position: relative;z-index: 1;}#sk-container-id-1 div.sk-parallel {display: flex;align-items: stretch;justify-content: center;background-color: white;position: relative;}#sk-container-id-1 div.sk-item::before, #sk-container-id-1 div.sk-parallel-item::before {content: \"\";position: absolute;border-left: 1px solid gray;box-sizing: border-box;top: 0;bottom: 0;left: 50%;z-index: -1;}#sk-container-id-1 div.sk-parallel-item {display: flex;flex-direction: column;z-index: 1;position: relative;background-color: white;}#sk-container-id-1 div.sk-parallel-item:first-child::after {align-self: flex-end;width: 50%;}#sk-container-id-1 div.sk-parallel-item:last-child::after {align-self: flex-start;width: 50%;}#sk-container-id-1 div.sk-parallel-item:only-child::after {width: 0;}#sk-container-id-1 div.sk-dashed-wrapped {border: 1px dashed gray;margin: 0 0.4em 0.5em 0.4em;box-sizing: border-box;padding-bottom: 0.4em;background-color: white;}#sk-container-id-1 div.sk-label label {font-family: monospace;font-weight: bold;display: inline-block;line-height: 1.2em;}#sk-container-id-1 div.sk-label-container {text-align: center;}#sk-container-id-1 div.sk-container {/* jupyter's `normalize.less` sets `[hidden] { display: none; }` but bootstrap.min.css set `[hidden] { display: none !important; }` so we also need the `!important` here to be able to override the default hidden behavior on the sphinx rendered scikit-learn.org. See: https://github.com/scikit-learn/scikit-learn/issues/21755 */display: inline-block !important;position: relative;}#sk-container-id-1 div.sk-text-repr-fallback {display: none;}</style><div id=\"sk-container-id-1\" class=\"sk-top-container\"><div class=\"sk-text-repr-fallback\"><pre>MultiOutputClassifier(estimator=KNeighborsClassifier(n_neighbors=31), n_jobs=-1)</pre><b>In a Jupyter environment, please rerun this cell to show the HTML representation or trust the notebook. <br />On GitHub, the HTML representation is unable to render, please try loading this page with nbviewer.org.</b></div><div class=\"sk-container\" hidden><div class=\"sk-item sk-dashed-wrapped\"><div class=\"sk-label-container\"><div class=\"sk-label sk-toggleable\"><input class=\"sk-toggleable__control sk-hidden--visually\" id=\"sk-estimator-id-1\" type=\"checkbox\" ><label for=\"sk-estimator-id-1\" class=\"sk-toggleable__label sk-toggleable__label-arrow\">MultiOutputClassifier</label><div class=\"sk-toggleable__content\"><pre>MultiOutputClassifier(estimator=KNeighborsClassifier(n_neighbors=31), n_jobs=-1)</pre></div></div></div><div class=\"sk-parallel\"><div class=\"sk-parallel-item\"><div class=\"sk-item\"><div class=\"sk-label-container\"><div class=\"sk-label sk-toggleable\"><input class=\"sk-toggleable__control sk-hidden--visually\" id=\"sk-estimator-id-2\" type=\"checkbox\" ><label for=\"sk-estimator-id-2\" class=\"sk-toggleable__label sk-toggleable__label-arrow\">estimator: KNeighborsClassifier</label><div class=\"sk-toggleable__content\"><pre>KNeighborsClassifier(n_neighbors=31)</pre></div></div></div><div class=\"sk-serial\"><div class=\"sk-item\"><div class=\"sk-estimator sk-toggleable\"><input class=\"sk-toggleable__control sk-hidden--visually\" id=\"sk-estimator-id-3\" type=\"checkbox\" ><label for=\"sk-estimator-id-3\" class=\"sk-toggleable__label sk-toggleable__label-arrow\">KNeighborsClassifier</label><div class=\"sk-toggleable__content\"><pre>KNeighborsClassifier(n_neighbors=31)</pre></div></div></div></div></div></div></div></div></div></div>"
      ],
      "text/plain": [
       "MultiOutputClassifier(estimator=KNeighborsClassifier(n_neighbors=31), n_jobs=-1)"
      ]
     },
     "execution_count": 101,
     "metadata": {},
     "output_type": "execute_result"
    }
   ],
   "source": [
    "model_load"
   ]
  }
 ],
 "metadata": {
  "kernelspec": {
   "display_name": "Python 3",
   "language": "python",
   "name": "python3"
  },
  "language_info": {
   "codemirror_mode": {
    "name": "ipython",
    "version": 3
   },
   "file_extension": ".py",
   "mimetype": "text/x-python",
   "name": "python",
   "nbconvert_exporter": "python",
   "pygments_lexer": "ipython3",
   "version": "3.8.8"
  }
 },
 "nbformat": 4,
 "nbformat_minor": 5
}
